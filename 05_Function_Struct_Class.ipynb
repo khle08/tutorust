{
 "cells": [
  {
   "cell_type": "markdown",
   "metadata": {},
   "source": [
    "# Brief"
   ]
  },
  {
   "cell_type": "markdown",
   "metadata": {},
   "source": [
    "# Anonymus function"
   ]
  },
  {
   "cell_type": "code",
   "execution_count": 2,
   "metadata": {},
   "outputs": [
    {
     "ename": "Error",
     "evalue": "Sorry, the type [closure@src/lib.rs:105:16: 105:21] cannot currently be persisted",
     "output_type": "error",
     "traceback": [
      "Sorry, the type [closure@src/lib.rs:105:16: 105:21] cannot currently be persisted"
     ]
    }
   ],
   "source": [
    "let anonymus = |x| x;\n",
    "\n",
    "let s1 = anonymus(String::from(\"hello\"));\n",
    "let s2 = anonymus(s1.to_string());\n",
    "println!(\"{} - {}\", s1, s2);"
   ]
  },
  {
   "cell_type": "code",
   "execution_count": null,
   "metadata": {},
   "outputs": [],
   "source": []
  },
  {
   "cell_type": "markdown",
   "metadata": {},
   "source": [
    "Since the `x` variable is moved to the other line, it can no longer be printed."
   ]
  },
  {
   "cell_type": "code",
   "execution_count": 3,
   "metadata": {},
   "outputs": [
    {
     "ename": "Error",
     "evalue": "Sorry, the type [closure@src/lib.rs:106:15: 106:30] cannot currently be persisted",
     "output_type": "error",
     "traceback": [
      "Sorry, the type [closure@src/lib.rs:106:15: 106:30] cannot currently be persisted"
     ]
    }
   ],
   "source": [
    "let x = vec![1, 2, 3];\n",
    "let equal2x = move |z| z == x;\n",
    "\n",
    "// println!(\"x: {:?}\", x);\n",
    "\n",
    "let y = vec![1, 4, 3];\n",
    "let eq = equal2x(y);\n",
    "println!(\"{}\", eq);\n",
    "assert!(eq);"
   ]
  },
  {
   "cell_type": "code",
   "execution_count": null,
   "metadata": {},
   "outputs": [],
   "source": []
  },
  {
   "cell_type": "markdown",
   "metadata": {},
   "source": [
    "# Map with Anonymus Function"
   ]
  },
  {
   "cell_type": "code",
   "execution_count": 4,
   "metadata": {},
   "outputs": [
    {
     "name": "stdout",
     "output_type": "stream",
     "text": [
      "[2, 3, 4, 5, 6], all = 20\n"
     ]
    }
   ],
   "source": [
    "let items: Vec<i32> = vec![1, 2, 3, 4, 5];\n",
    "\n",
    "let plus_one: Vec<_> = items.iter().map(|x| x + 1).collect();\n",
    "let sum_all: i32 = items.iter().map(|x| x + 1).sum();\n",
    "println!(\"{:?}, all = {:?}\", plus_one, sum_all);"
   ]
  },
  {
   "cell_type": "code",
   "execution_count": null,
   "metadata": {},
   "outputs": [],
   "source": []
  },
  {
   "cell_type": "markdown",
   "metadata": {},
   "source": [
    "# Standard Function"
   ]
  },
  {
   "cell_type": "code",
   "execution_count": 5,
   "metadata": {},
   "outputs": [],
   "source": [
    "fn Times(x: u64) {\n",
    "    if x % 5 == 0 {\n",
    "        println!(\"5 times: {}\", x)\n",
    "    } else if x % 3 == 0 {\n",
    "        println!(\"3 times: {}\", x)\n",
    "    } else if x % 7 == 0 {\n",
    "        println!(\"7 times: {}\", x)\n",
    "    } else {\n",
    "        println!(\"{}\", x)\n",
    "    }\n",
    "}"
   ]
  },
  {
   "cell_type": "code",
   "execution_count": 6,
   "metadata": {},
   "outputs": [
    {
     "name": "stdout",
     "output_type": "stream",
     "text": [
      "1\n",
      "2\n",
      "3 times: 3\n",
      "4\n",
      "5 times: 5\n",
      "3 times: 6\n",
      "7 times: 7\n",
      "8\n",
      "3 times: 9\n",
      "5 times: 10\n",
      "11\n",
      "3 times: 12\n",
      "13\n",
      "7 times: 14\n",
      "5 times: 15\n"
     ]
    }
   ],
   "source": [
    "for i in 1..16 {\n",
    "    Times(i)\n",
    "};"
   ]
  },
  {
   "cell_type": "code",
   "execution_count": 7,
   "metadata": {},
   "outputs": [
    {
     "name": "stdout",
     "output_type": "stream",
     "text": [
      "1\n",
      "2\n",
      "3 times: 3\n",
      "4\n",
      "5 times: 5\n",
      "3 times: 6\n",
      "7 times: 7\n",
      "8\n",
      "3 times: 9\n",
      "5 times: 10\n",
      "11\n",
      "3 times: 12\n",
      "13\n",
      "7 times: 14\n",
      "5 times: 15\n"
     ]
    }
   ],
   "source": [
    "(1..16).into_iter().for_each(Times);"
   ]
  },
  {
   "cell_type": "code",
   "execution_count": null,
   "metadata": {},
   "outputs": [],
   "source": []
  },
  {
   "cell_type": "markdown",
   "metadata": {},
   "source": [
    "# Func in a Func"
   ]
  },
  {
   "cell_type": "code",
   "execution_count": 8,
   "metadata": {},
   "outputs": [],
   "source": [
    "fn funcOut(x: u32) -> u32 {\n",
    "    fn funcIn(x: u32) -> u32{\n",
    "        x * 3\n",
    "    }\n",
    "    funcIn(x)\n",
    "}"
   ]
  },
  {
   "cell_type": "code",
   "execution_count": 9,
   "metadata": {},
   "outputs": [
    {
     "name": "stdout",
     "output_type": "stream",
     "text": [
      "30\n"
     ]
    }
   ],
   "source": [
    "println!(\"{:?}\", funcOut(10));"
   ]
  },
  {
   "cell_type": "code",
   "execution_count": 10,
   "metadata": {},
   "outputs": [
    {
     "ename": "Error",
     "evalue": "cannot find function `funcIn` in this scope",
     "output_type": "error",
     "traceback": [
      "funcIn(20)",
      "\u001b[91m^^^^^^\u001b[0m \u001b[94mnot found in this scope\u001b[0m",
      "cannot find function `funcIn` in this scope"
     ]
    }
   ],
   "source": [
    "funcIn(20)"
   ]
  },
  {
   "cell_type": "markdown",
   "metadata": {},
   "source": [
    "# Struct\n",
    "\n",
    "```python\n",
    "class Animal;\n",
    "    def __init__(self, kind, age):\n",
    "        self.kind = kind\n",
    "        self.age = age\n",
    "```"
   ]
  },
  {
   "cell_type": "code",
   "execution_count": 11,
   "metadata": {},
   "outputs": [],
   "source": [
    "struct Animal {\n",
    "    kind: String,\n",
    "    age: u64,\n",
    "}"
   ]
  },
  {
   "cell_type": "code",
   "execution_count": 12,
   "metadata": {},
   "outputs": [
    {
     "data": {
      "text/plain": [
       "8"
      ]
     },
     "execution_count": 12,
     "metadata": {},
     "output_type": "execute_result"
    }
   ],
   "source": [
    "let mut animal = Animal{kind: \"dog\".to_string(), age: 8};\n",
    "animal.age"
   ]
  },
  {
   "cell_type": "code",
   "execution_count": 13,
   "metadata": {},
   "outputs": [
    {
     "data": {
      "text/plain": [
       "\"dog\""
      ]
     },
     "execution_count": 13,
     "metadata": {},
     "output_type": "execute_result"
    }
   ],
   "source": [
    "animal.kind"
   ]
  },
  {
   "cell_type": "markdown",
   "metadata": {},
   "source": [
    "# Enum"
   ]
  },
  {
   "cell_type": "code",
   "execution_count": 14,
   "metadata": {},
   "outputs": [],
   "source": [
    "#[derive(Debug)]\n",
    "enum GenderCategory {\n",
    "    Male,\n",
    "    Female\n",
    "}\n",
    "\n",
    "#[derive(Debug)]\n",
    "struct Person {\n",
    "    name: String,\n",
    "    gender: GenderCategory\n",
    "}\n",
    "\n",
    "#[derive(Debug)]\n",
    "struct Pet {\n",
    "    kind: String,\n",
    "    gender: GenderCategory\n",
    "}"
   ]
  },
  {
   "cell_type": "code",
   "execution_count": 15,
   "metadata": {},
   "outputs": [
    {
     "name": "stdout",
     "output_type": "stream",
     "text": [
      "Person { name: \"Mary\", gender: Female }\n",
      "Person { name: \"John\", gender: Male }\n",
      "Pet { kind: \"dog\", gender: Male }\n"
     ]
    }
   ],
   "source": [
    "let p1 = Person {name: String::from(\"Mary\"),\n",
    "                 gender: GenderCategory::Female};\n",
    "\n",
    "let p2 = Person {name: String::from(\"John\"),\n",
    "                 gender: GenderCategory::Male};\n",
    "\n",
    "let pet = Pet {kind: String::from(\"dog\"),\n",
    "               gender: GenderCategory::Male};\n",
    "\n",
    "println!(\"{:?}\", p1);\n",
    "println!(\"{:?}\", p2);\n",
    "println!(\"{:?}\", pet);"
   ]
  },
  {
   "cell_type": "code",
   "execution_count": null,
   "metadata": {},
   "outputs": [],
   "source": []
  },
  {
   "cell_type": "markdown",
   "metadata": {},
   "source": [
    "# Match\n",
    "\n",
    "ref: [link1](https://www.twle.cn/c/yufei/rust/rust-basic-enums.html)"
   ]
  },
  {
   "cell_type": "code",
   "execution_count": 16,
   "metadata": {},
   "outputs": [],
   "source": [
    "enum Family {\n",
    "    person1(Person),\n",
    "    person2(Person),\n",
    "    pet(Pet),\n",
    "}\n",
    "\n",
    "fn pickup(family: Family) {\n",
    "    match family {\n",
    "        Family::person1(p) => println!(\"person1: {:?}\", p),\n",
    "        Family::person2(p) => println!(\"person2: {:?}\", p),\n",
    "        Family::pet(pt) => println!(\"pet: {:?}\", pt),\n",
    "    }\n",
    "}"
   ]
  },
  {
   "cell_type": "code",
   "execution_count": 17,
   "metadata": {},
   "outputs": [
    {
     "name": "stdout",
     "output_type": "stream",
     "text": [
      "person1: Person { name: \"Joe\", gender: Male }\n"
     ]
    }
   ],
   "source": [
    "pickup(Family::person1(\n",
    "    Person{name: \"Joe\".to_string(), gender: GenderCategory::Male}\n",
    "));"
   ]
  },
  {
   "cell_type": "code",
   "execution_count": 18,
   "metadata": {},
   "outputs": [
    {
     "name": "stdout",
     "output_type": "stream",
     "text": [
      "pet: Pet { kind: \"dog\", gender: Male }\n"
     ]
    }
   ],
   "source": [
    "pickup(Family::pet(\n",
    "    Pet{kind: \"dog\".to_string(), gender: GenderCategory::Male}\n",
    "));"
   ]
  },
  {
   "cell_type": "code",
   "execution_count": null,
   "metadata": {},
   "outputs": [],
   "source": []
  },
  {
   "cell_type": "markdown",
   "metadata": {},
   "source": [
    "# Inherit from the other struct object"
   ]
  },
  {
   "cell_type": "code",
   "execution_count": 19,
   "metadata": {},
   "outputs": [
    {
     "name": "stdout",
     "output_type": "stream",
     "text": [
      "p3: Person { name: \"Alan\", gender: Female }\n"
     ]
    }
   ],
   "source": [
    "let p3 = Person {name: String::from(\"Alan\"), ..p1};\n",
    "println!(\"p3: {:?}\", p3);"
   ]
  },
  {
   "cell_type": "code",
   "execution_count": 20,
   "metadata": {},
   "outputs": [
    {
     "ename": "Error",
     "evalue": "cannot find value `p1` in this scope",
     "output_type": "error",
     "traceback": [
      "println!(\"p1: {:?}\", p1);",
      "\u001b[91m                     ^^\u001b[0m \u001b[94m\u001b[0m",
      "cannot find value `p1` in this scope",
      "\u001b[1mhelp\u001b[0m: a local variable with a similar name exists\n\np2"
     ]
    },
    {
     "ename": "Error",
     "evalue": "variant `person1` should have an upper camel case name",
     "output_type": "error",
     "traceback": [
      "",
      "variant `person1` should have an upper camel case name",
      "\u001b[1mhelp\u001b[0m: convert the identifier to upper camel case\n\nPerson1"
     ]
    },
    {
     "ename": "Error",
     "evalue": "variant `person2` should have an upper camel case name",
     "output_type": "error",
     "traceback": [
      "",
      "variant `person2` should have an upper camel case name",
      "\u001b[1mhelp\u001b[0m: convert the identifier to upper camel case\n\nPerson2"
     ]
    },
    {
     "ename": "Error",
     "evalue": "variant `pet` should have an upper camel case name",
     "output_type": "error",
     "traceback": [
      "",
      "variant `pet` should have an upper camel case name",
      "\u001b[1mhelp\u001b[0m: convert the identifier to upper camel case\n\nPet"
     ]
    }
   ],
   "source": [
    "println!(\"p1: {:?}\", p1);"
   ]
  },
  {
   "cell_type": "code",
   "execution_count": null,
   "metadata": {},
   "outputs": [],
   "source": []
  },
  {
   "cell_type": "markdown",
   "metadata": {},
   "source": [
    "# Struct method\n",
    "\n",
    "```python\n",
    "class Demo:\n",
    "    def __init__(self, x, y, z=None):\n",
    "        self.x = x\n",
    "        self.y = y\n",
    "        self.z = z if z is not None else 0\n",
    "    \n",
    "    def __str__(self):\n",
    "        return f\"D({self.x}, {self.y}, {self.z})\"\n",
    "```"
   ]
  },
  {
   "cell_type": "code",
   "execution_count": 21,
   "metadata": {},
   "outputs": [],
   "source": [
    "use std::default::Default;\n",
    "\n",
    "#[derive(Debug)]\n",
    "struct Demo {\n",
    "    x: i32,\n",
    "    y: i32,\n",
    "    z: i32,\n",
    "}\n",
    "\n",
    "impl Demo {\n",
    "    fn method(x: i32, y: i32, z: Option<i32>) -> Self {\n",
    "        match z {\n",
    "            Some(z) => Self {x, y, z},\n",
    "            None => Self{x, y, z: 1000},\n",
    "        }\n",
    "    }\n",
    "}\n",
    "\n",
    "// This is a default \"trait\" method\n",
    "impl Default for Demo {\n",
    "    fn default() -> Self {\n",
    "        Self {x: 0, y: 0, z: 0}\n",
    "    }\n",
    "}"
   ]
  },
  {
   "cell_type": "code",
   "execution_count": 22,
   "metadata": {},
   "outputs": [
    {
     "name": "stdout",
     "output_type": "stream",
     "text": [
      "d1: Demo { x: 1, y: 2, z: 1000 }\n",
      "d2: Demo { x: 1, y: 2, z: 0 }\n",
      "d3: Demo { x: 1, y: 0, z: 0 }\n"
     ]
    }
   ],
   "source": [
    "let d1 = Demo::method(1, 2, None);\n",
    "let d2 = Demo {x: 1, y: 2, ..Demo::default()};\n",
    "let d3 = Demo {x: 1, ..Demo::default()};\n",
    "\n",
    "println!(\"d1: {:?}\", d1);\n",
    "println!(\"d2: {:?}\", d2);\n",
    "println!(\"d3: {:?}\", d3);"
   ]
  },
  {
   "cell_type": "code",
   "execution_count": null,
   "metadata": {},
   "outputs": [],
   "source": []
  }
 ],
 "metadata": {
  "kernelspec": {
   "display_name": "Rust",
   "language": "rust",
   "name": "rust"
  },
  "language_info": {
   "codemirror_mode": "rust",
   "file_extension": ".rs",
   "mimetype": "text/rust",
   "name": "Rust",
   "pygment_lexer": "rust",
   "version": ""
  }
 },
 "nbformat": 4,
 "nbformat_minor": 2
}
