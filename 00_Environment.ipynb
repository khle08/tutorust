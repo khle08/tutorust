{
 "cells": [
  {
   "cell_type": "markdown",
   "metadata": {},
   "source": [
    "# 概述\n",
    "... more"
   ]
  },
  {
   "cell_type": "code",
   "execution_count": null,
   "metadata": {},
   "outputs": [],
   "source": []
  },
  {
   "cell_type": "markdown",
   "metadata": {},
   "source": [
    "# Rust Installation\n",
    "If your computer is totally new, `curl` and `cmake` should be installed in advance.\n",
    "\n",
    "```bash\n",
    "sudo apt update\n",
    "sudo apt install cmake curl build-essential\n",
    "```\n",
    "\n",
    "To install `rust`, simply go to the official [website](https://www.rust-lang.org/) and run the command line similar as follows.\n",
    "\n",
    "```bash\n",
    "curl --proto '=https' --tlsv1.2 -sSf https://sh.rustup.rs | sh\n",
    "```"
   ]
  },
  {
   "cell_type": "code",
   "execution_count": null,
   "metadata": {},
   "outputs": [],
   "source": []
  },
  {
   "cell_type": "markdown",
   "metadata": {},
   "source": [
    "# Jupyter Notebook\n",
    "If you want to play `rust` with Jupyter notebook, follow the instructions down below. Click [here](https://crates.io/crates/evcxr_jupyter) to know more from the official package website.\n",
    "\n",
    "```bash\n",
    "sudo apt install jupyter-notebook\n",
    "cargo install evcxr_jupyter\n",
    "evcxr_jupyter --install\n",
    "```\n",
    "\n",
    "If you encounter some error saying something about the undefined cmake related variable names, try the other method to install jupyter.\n",
    "\n",
    "```bash\n",
    "sudo apt install libzmq3-dev jupyter-notebook\n",
    "cargo install evcxr_jupyter --no-default-features\n",
    "evcxr_jupyter --install\n",
    "```\n",
    "\n",
    "When everything is finished successfully without any error, run `jupyter notebook` to play with rust!"
   ]
  },
  {
   "cell_type": "code",
   "execution_count": null,
   "metadata": {},
   "outputs": [],
   "source": []
  },
  {
   "cell_type": "markdown",
   "metadata": {},
   "source": [
    "# Download Crate Failure\n",
    "If `cargo` can not install a package showing that the connection is bad, change the source by first creating a file called `config` with the following content. Click [here](https://blog.csdn.net/xiangxianghehe/article/details/105874880) to know more about the instructions.\n",
    "\n",
    "```bash\n",
    "[source.crates-io]\n",
    "registry = \"https://github.com/rust-lang/crates.io-index\"\n",
    "\n",
    "# 替换成你偏好的镜像源\n",
    "replace-with = 'sjtu'\n",
    "# The name can be 'sjtu', 'tuna', 'ustc', and more.\n",
    "\n",
    "# 清华大学\n",
    "[source.tuna]\n",
    "registry = \"https://mirrors.tuna.tsinghua.edu.cn/git/crates.io-index.git\"\n",
    "\n",
    "# 中国科学技术大学\n",
    "[source.ustc]\n",
    "registry = \"git://mirrors.ustc.edu.cn/crates.io-index\"\n",
    "\n",
    "# 上海交通大学\n",
    "[source.sjtu]\n",
    "registry = \"https://mirrors.sjtug.sjtu.edu.cn/git/crates.io-index\"\n",
    "\n",
    "# rustcc社区\n",
    "[source.rustcc]\n",
    "registry = \"git://crates.rustcc.cn/crates.io-index\"\n",
    "```"
   ]
  },
  {
   "cell_type": "markdown",
   "metadata": {},
   "source": [
    "Next, put this thing to `$HOME/.cargo/` directory and reopen the terminal to install the wanted packages."
   ]
  },
  {
   "cell_type": "code",
   "execution_count": null,
   "metadata": {},
   "outputs": [],
   "source": []
  },
  {
   "cell_type": "markdown",
   "metadata": {},
   "source": [
    "# 基本概念\n",
    "+ 变量\n",
    "+ 数据类型\n",
    "    + 标量类型\n",
    "    + 复合类型\n",
    "+ 函数\n",
    "+ 注释\n",
    "+ 控制流\n",
    "\n",
    "## 1.1 变量与可变性\n",
    "使用 `let` 声明变量，默认情况下是不可被修改(immutable)的一个值，例如\n",
    "\n",
    "```rust\n",
    "let x = 5;\n",
    "x = 10;\n",
    "```"
   ]
  },
  {
   "cell_type": "code",
   "execution_count": 28,
   "metadata": {
    "scrolled": true
   },
   "outputs": [
    {
     "ename": "Error",
     "evalue": "value assigned to `x` is never read",
     "output_type": "error",
     "traceback": [
      "let x = 5;",
      "\u001b[91m    ^\u001b[0m \u001b[94m\u001b[0m",
      "value assigned to `x` is never read",
      "\u001b[1mhelp\u001b[0m: maybe it is overwritten before being read?"
     ]
    },
    {
     "ename": "Error",
     "evalue": "cannot assign twice to immutable variable `x`",
     "output_type": "error",
     "traceback": [
      "let x = 5;",
      "\u001b[91m    ^\u001b[0m \u001b[94mfirst assignment to `x`\u001b[0m",
      "x = 10;",
      "\u001b[91m^^^^^^\u001b[0m \u001b[94mcannot assign twice to immutable variable\u001b[0m",
      "cannot assign twice to immutable variable `x`",
      "\u001b[1mhelp\u001b[0m: consider making this binding mutable\n\nmut x"
     ]
    }
   ],
   "source": [
    "let x = 5;\n",
    "x = 10;"
   ]
  },
  {
   "cell_type": "markdown",
   "metadata": {},
   "source": [
    "正确的做法是在前面加上 `mut` 关键词：\n",
    "\n",
    "```rust\n",
    "let mut x = 5;\n",
    "x = 10;\n",
    "```"
   ]
  },
  {
   "cell_type": "code",
   "execution_count": 29,
   "metadata": {},
   "outputs": [
    {
     "data": {
      "text/plain": [
       "10"
      ]
     },
     "execution_count": 29,
     "metadata": {},
     "output_type": "execute_result"
    }
   ],
   "source": [
    "let mut x = 5;\n",
    "x = 10;\n",
    "x"
   ]
  },
  {
   "cell_type": "markdown",
   "metadata": {},
   "source": [
    "## 1.2 变量与常量\n",
    "1. 常量不可以用 `mut`，确保其不变性\n",
    "2. 使用 `const` 声明，类型必须被标注\n",
    "3. 常量可以在全局任意地方被创建（声明），包括全局作用域\n",
    "4. 程序运行期间，常量永远有效\n",
    "5. 一般以全大写命名，单词之间用`_`分开\n",
    "\n",
    "```rust\n",
    "const X:i32 = 5;\n",
    "```"
   ]
  },
  {
   "cell_type": "code",
   "execution_count": 30,
   "metadata": {},
   "outputs": [
    {
     "ename": "Error",
     "evalue": "function parameters cannot shadow constants",
     "output_type": "error",
     "traceback": [
      "const x:i32 = 5;",
      "\u001b[91m^^^^^^^^^^^^^^^^\u001b[0m \u001b[94mthe constant `x` is defined here\u001b[0m",
      "function parameters cannot shadow constants"
     ]
    }
   ],
   "source": [
    "const x:i32 = 5;"
   ]
  },
  {
   "cell_type": "code",
   "execution_count": 32,
   "metadata": {},
   "outputs": [
    {
     "data": {
      "text/plain": [
       "5"
      ]
     },
     "execution_count": 32,
     "metadata": {},
     "output_type": "execute_result"
    }
   ],
   "source": [
    "const X:i32 = 5;\n",
    "X"
   ]
  },
  {
   "cell_type": "markdown",
   "metadata": {},
   "source": [
    "## 1.3 隐藏变量（shadowing）\n",
    "可以用之前用过的变量名重新声明一个新的变量，旧的就会被隐藏（覆盖掉）\n",
    "\n",
    "```rust\n",
    "let x = 5;\n",
    "let x = x + 1;\n",
    "let x = 10;\n",
    "```"
   ]
  },
  {
   "cell_type": "code",
   "execution_count": 33,
   "metadata": {},
   "outputs": [
    {
     "data": {
      "text/plain": [
       "10"
      ]
     },
     "execution_count": 33,
     "metadata": {},
     "output_type": "execute_result"
    }
   ],
   "source": [
    "let x = 5;\n",
    "let x = x + 1;\n",
    "let x = 10;\n",
    "x"
   ]
  },
  {
   "cell_type": "markdown",
   "metadata": {},
   "source": [
    "这么操作后，新的变量同样还是不可变的，和 `mut` 情况不同，而且新的变量数据类型在这种方法下也是可以改的，例如：\n",
    "\n",
    "```rust\n",
    "let space = \"abcde\";      // &str type\n",
    "let space = space.len();  //  i32 type\n",
    "```"
   ]
  },
  {
   "cell_type": "code",
   "execution_count": 34,
   "metadata": {},
   "outputs": [
    {
     "data": {
      "text/plain": [
       "5"
      ]
     },
     "execution_count": 34,
     "metadata": {},
     "output_type": "execute_result"
    }
   ],
   "source": [
    "let space = \"abcde\";      // &str type\n",
    "let space = space.len();  //  i32 type\n",
    "space"
   ]
  },
  {
   "cell_type": "code",
   "execution_count": null,
   "metadata": {},
   "outputs": [],
   "source": []
  }
 ],
 "metadata": {
  "kernelspec": {
   "display_name": "Rust",
   "language": "rust",
   "name": "rust"
  },
  "language_info": {
   "codemirror_mode": "rust",
   "file_extension": ".rs",
   "mimetype": "text/rust",
   "name": "Rust",
   "pygment_lexer": "rust",
   "version": ""
  }
 },
 "nbformat": 4,
 "nbformat_minor": 2
}
