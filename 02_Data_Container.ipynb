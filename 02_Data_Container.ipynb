{
 "cells": [
  {
   "cell_type": "markdown",
   "metadata": {},
   "source": [
    "# Brief\n",
    "+ struct\n",
    "+ tuple `()`\n",
    "+ array `[]`\n",
    "+ vector `vec![]`"
   ]
  },
  {
   "cell_type": "code",
   "execution_count": null,
   "metadata": {},
   "outputs": [],
   "source": []
  },
  {
   "cell_type": "markdown",
   "metadata": {},
   "source": [
    "# Struct"
   ]
  },
  {
   "cell_type": "code",
   "execution_count": 2,
   "metadata": {
    "scrolled": false
   },
   "outputs": [],
   "source": [
    "#[derive(Debug)]\n",
    "struct Matrix(f32, f32, f32, f32);"
   ]
  },
  {
   "cell_type": "code",
   "execution_count": null,
   "metadata": {},
   "outputs": [],
   "source": []
  },
  {
   "cell_type": "code",
   "execution_count": 3,
   "metadata": {},
   "outputs": [],
   "source": [
    "let mat1 = Matrix(1., 2.2, 3.3, 4.5);"
   ]
  },
  {
   "cell_type": "code",
   "execution_count": 4,
   "metadata": {},
   "outputs": [
    {
     "ename": "Error",
     "evalue": "`Matrix` doesn't implement `std::fmt::Display`",
     "output_type": "error",
     "traceback": [
      "println!(\"mat1: {}\", mat1);",
      "\u001b[91m                     ^^^^\u001b[0m \u001b[94m`Matrix` cannot be formatted with the default formatter\u001b[0m",
      "`Matrix` doesn't implement `std::fmt::Display`",
      "\u001b[1mhelp\u001b[0m: the trait `std::fmt::Display` is not implemented for `Matrix`"
     ]
    }
   ],
   "source": [
    "println!(\"mat1: {}\", mat1);"
   ]
  },
  {
   "cell_type": "code",
   "execution_count": 5,
   "metadata": {
    "scrolled": true
   },
   "outputs": [
    {
     "name": "stdout",
     "output_type": "stream",
     "text": [
      "mat1: Matrix(1.0, 2.2, 3.3, 4.5)\n"
     ]
    }
   ],
   "source": [
    "println!(\"mat1: {:?}\", mat1);"
   ]
  },
  {
   "cell_type": "markdown",
   "metadata": {},
   "source": [
    "### Index"
   ]
  },
  {
   "cell_type": "code",
   "execution_count": 6,
   "metadata": {},
   "outputs": [
    {
     "data": {
      "text/plain": [
       "4.5"
      ]
     },
     "execution_count": 6,
     "metadata": {},
     "output_type": "execute_result"
    }
   ],
   "source": [
    "mat1.3"
   ]
  },
  {
   "cell_type": "code",
   "execution_count": 7,
   "metadata": {},
   "outputs": [
    {
     "ename": "Error",
     "evalue": "cannot index into a value of type `Matrix`",
     "output_type": "error",
     "traceback": [
      "",
      "cannot index into a value of type `Matrix`"
     ]
    }
   ],
   "source": [
    "mat1[3]"
   ]
  },
  {
   "cell_type": "markdown",
   "metadata": {},
   "source": [
    "### Mutability"
   ]
  },
  {
   "cell_type": "code",
   "execution_count": 8,
   "metadata": {},
   "outputs": [
    {
     "ename": "Error",
     "evalue": "cannot assign to `mat1.2`, as `mat1` is not declared as mutable",
     "output_type": "error",
     "traceback": [
      "cannot assign",
      "cannot assign to `mat1.2`, as `mat1` is not declared as mutable",
      "\u001b[1mhelp\u001b[0m: consider changing this to be mutable\n\nmut mat1"
     ]
    }
   ],
   "source": [
    "mat1.2 = 100.11"
   ]
  },
  {
   "cell_type": "code",
   "execution_count": 9,
   "metadata": {},
   "outputs": [
    {
     "name": "stdout",
     "output_type": "stream",
     "text": [
      "mat1: Matrix(1.0, 2.2, 100.11, 4.5)\n"
     ]
    }
   ],
   "source": [
    "let mut mat1 = Matrix(1., 2.2, 3.3, 4.5);\n",
    "\n",
    "mat1.2 = 100.11;\n",
    "println!(\"mat1: {:?}\", mat1);"
   ]
  },
  {
   "cell_type": "code",
   "execution_count": null,
   "metadata": {},
   "outputs": [],
   "source": []
  },
  {
   "cell_type": "markdown",
   "metadata": {},
   "source": [
    "# Tuple"
   ]
  },
  {
   "cell_type": "code",
   "execution_count": 10,
   "metadata": {},
   "outputs": [
    {
     "name": "stdout",
     "output_type": "stream",
     "text": [
      "multiple types: (3, 5, 'a', true)\n"
     ]
    }
   ],
   "source": [
    "let types = (3u8, 5i16, 'a', true);\n",
    "println!(\"multiple types: {:?}\", types);"
   ]
  },
  {
   "cell_type": "code",
   "execution_count": 11,
   "metadata": {},
   "outputs": [
    {
     "data": {
      "text/plain": [
       "3"
      ]
     },
     "execution_count": 11,
     "metadata": {},
     "output_type": "execute_result"
    }
   ],
   "source": [
    "types.0"
   ]
  },
  {
   "cell_type": "code",
   "execution_count": 12,
   "metadata": {},
   "outputs": [
    {
     "data": {
      "text/plain": [
       "true"
      ]
     },
     "execution_count": 12,
     "metadata": {},
     "output_type": "execute_result"
    }
   ],
   "source": [
    "types.3"
   ]
  },
  {
   "cell_type": "code",
   "execution_count": 13,
   "metadata": {},
   "outputs": [
    {
     "name": "stdout",
     "output_type": "stream",
     "text": [
      "multiple tuples: ((3, 5, 'a', true), (4.3, \"str\", false), (1, 20, 3000))\n"
     ]
    }
   ],
   "source": [
    "let tup_tup = ((3u8, 5i16, 'a', true), (4.3_f32, \"str\", false), (1, 20, 3000));\n",
    "println!(\"multiple tuples: {:?}\", tup_tup);"
   ]
  },
  {
   "cell_type": "code",
   "execution_count": 14,
   "metadata": {},
   "outputs": [
    {
     "name": "stdout",
     "output_type": "stream",
     "text": [
      "aaaa: (3, 5, 'a', true), bbb: (4.3, \"str\", false), ccc:(1, 20, 3000)\n"
     ]
    }
   ],
   "source": [
    "let (aaaa, bbb, ccc) = tup_tup;\n",
    "println!(\"aaaa: {:?}, bbb: {:?}, ccc:{:?}\", aaaa, bbb, ccc);"
   ]
  },
  {
   "cell_type": "code",
   "execution_count": 15,
   "metadata": {},
   "outputs": [
    {
     "ename": "Error",
     "evalue": "cannot index into a value of type `(u8, i16, char, bool)`",
     "output_type": "error",
     "traceback": [
      "",
      "cannot index into a value of type `(u8, i16, char, bool)`",
      "\u001b[1mhelp\u001b[0m: to access tuple elements, use\n\naaaa.1"
     ]
    }
   ],
   "source": [
    "aaaa[1]"
   ]
  },
  {
   "cell_type": "code",
   "execution_count": 16,
   "metadata": {},
   "outputs": [
    {
     "data": {
      "text/plain": [
       "5"
      ]
     },
     "execution_count": 16,
     "metadata": {},
     "output_type": "execute_result"
    }
   ],
   "source": [
    "aaaa.1"
   ]
  },
  {
   "cell_type": "code",
   "execution_count": null,
   "metadata": {},
   "outputs": [],
   "source": []
  },
  {
   "cell_type": "markdown",
   "metadata": {},
   "source": [
    "# Array"
   ]
  },
  {
   "cell_type": "code",
   "execution_count": 17,
   "metadata": {},
   "outputs": [
    {
     "ename": "Error",
     "evalue": "mismatched types",
     "output_type": "error",
     "traceback": [
      "let arr1 = [1, 2.33, 3.14, 40, 55, 71];",
      "\u001b[91m               ^^^^\u001b[0m \u001b[94mexpected integer, found floating-point number\u001b[0m",
      "mismatched types"
     ]
    }
   ],
   "source": [
    "let arr1 = [1, 2.33, 3.14, 40, 55, 71];"
   ]
  },
  {
   "cell_type": "code",
   "execution_count": 18,
   "metadata": {},
   "outputs": [
    {
     "name": "stdout",
     "output_type": "stream",
     "text": [
      "arr1: [1, 2, 3, 40, 55, 71]\n"
     ]
    }
   ],
   "source": [
    "let arr1 = [1, 2, 3, 40, 55, 71];\n",
    "println!(\"arr1: {:?}\", arr1);"
   ]
  },
  {
   "cell_type": "markdown",
   "metadata": {},
   "source": [
    "### Index"
   ]
  },
  {
   "cell_type": "code",
   "execution_count": 19,
   "metadata": {},
   "outputs": [
    {
     "ename": "Error",
     "evalue": "no field `4` on type `[i32; 6]`",
     "output_type": "error",
     "traceback": [
      "arr1.4",
      "\u001b[91m     ^\u001b[0m \u001b[94m\u001b[0m",
      "no field `4` on type `[i32; 6]`",
      "\u001b[1mhelp\u001b[0m: instead of using tuple indexing, use array indexing\n\narr1[4]"
     ]
    }
   ],
   "source": [
    "arr1.4"
   ]
  },
  {
   "cell_type": "code",
   "execution_count": 20,
   "metadata": {
    "scrolled": false
   },
   "outputs": [
    {
     "data": {
      "text/plain": [
       "[2, 3]"
      ]
     },
     "execution_count": 20,
     "metadata": {},
     "output_type": "execute_result"
    }
   ],
   "source": [
    "arr1[1..3]"
   ]
  },
  {
   "cell_type": "code",
   "execution_count": 21,
   "metadata": {
    "scrolled": true
   },
   "outputs": [
    {
     "ename": "Error",
     "evalue": "the size for values of type `[i32]` cannot be known at compilation time",
     "output_type": "error",
     "traceback": [
      "println!(\"arr1: {:?}\", arr1[1..3]);",
      "\u001b[91m^^^^^^^^^^^^^^^^^^^^^^^^^^^^^^^^^^\u001b[0m \u001b[94mdoesn't have a size known at compile-time\u001b[0m",
      "the size for values of type `[i32]` cannot be known at compilation time",
      "\u001b[1mhelp\u001b[0m: the trait `Sized` is not implemented for `[i32]`"
     ]
    }
   ],
   "source": [
    "println!(\"arr1: {:?}\", arr1[1..3]);"
   ]
  },
  {
   "cell_type": "code",
   "execution_count": 22,
   "metadata": {},
   "outputs": [],
   "source": [
    "println!(\"arr1: {:?}\", &arr1[1..3]);"
   ]
  },
  {
   "cell_type": "markdown",
   "metadata": {},
   "source": [
    "### Array Method"
   ]
  },
  {
   "cell_type": "code",
   "execution_count": 23,
   "metadata": {
    "scrolled": true
   },
   "outputs": [
    {
     "name": "stdout",
     "output_type": "stream",
     "text": [
      "arr1: [2, 3]\n"
     ]
    },
    {
     "data": {
      "text/plain": [
       "6"
      ]
     },
     "execution_count": 23,
     "metadata": {},
     "output_type": "execute_result"
    }
   ],
   "source": [
    "arr1.len()"
   ]
  },
  {
   "cell_type": "code",
   "execution_count": 24,
   "metadata": {},
   "outputs": [
    {
     "ename": "Error",
     "evalue": "the method `sum` exists for array `[i32; 6]`, but its trait bounds were not satisfied",
     "output_type": "error",
     "traceback": [
      "arr1.sum()",
      "\u001b[91m     ^^^\u001b[0m \u001b[94mmethod cannot be called on `[i32; 6]` due to unsatisfied trait bounds\u001b[0m",
      "the method `sum` exists for array `[i32; 6]`, but its trait bounds were not satisfied"
     ]
    }
   ],
   "source": [
    "arr1.sum()"
   ]
  },
  {
   "cell_type": "code",
   "execution_count": null,
   "metadata": {},
   "outputs": [],
   "source": []
  },
  {
   "cell_type": "code",
   "execution_count": 25,
   "metadata": {},
   "outputs": [
    {
     "name": "stdout",
     "output_type": "stream",
     "text": [
      "arrs: [0, 0, 0, 0, 0, 0, 0, 0, 0, 0]\n"
     ]
    }
   ],
   "source": [
    "let arrs: [i32; 10] = [0; 10];\n",
    "println!(\"arrs: {:?}\", arrs);"
   ]
  },
  {
   "cell_type": "code",
   "execution_count": 26,
   "metadata": {},
   "outputs": [
    {
     "data": {
      "text/plain": [
       "10"
      ]
     },
     "execution_count": 26,
     "metadata": {},
     "output_type": "execute_result"
    }
   ],
   "source": [
    "arrs.len()"
   ]
  },
  {
   "cell_type": "markdown",
   "metadata": {},
   "source": [
    "### Mutability"
   ]
  },
  {
   "cell_type": "code",
   "execution_count": 27,
   "metadata": {},
   "outputs": [
    {
     "name": "stdout",
     "output_type": "stream",
     "text": [
      "arrs: [0, 0, 0, 100, 0, 0, 0, 0, 0, 0]\n"
     ]
    }
   ],
   "source": [
    "let mut arrs: [i32; 10] = [0; 10];\n",
    "\n",
    "arrs[3] = 100;\n",
    "println!(\"arrs: {:?}\", arrs);"
   ]
  },
  {
   "cell_type": "code",
   "execution_count": 28,
   "metadata": {},
   "outputs": [
    {
     "ename": "Error",
     "evalue": "no method named `pop` found for array `[i32; 10]` in the current scope",
     "output_type": "error",
     "traceback": [
      "arrs.pop()",
      "\u001b[91m     ^^^\u001b[0m \u001b[94mmethod not found in `[i32; 10]`\u001b[0m",
      "no method named `pop` found for array `[i32; 10]` in the current scope"
     ]
    }
   ],
   "source": [
    "arrs.pop()"
   ]
  },
  {
   "cell_type": "code",
   "execution_count": null,
   "metadata": {},
   "outputs": [],
   "source": []
  },
  {
   "cell_type": "markdown",
   "metadata": {},
   "source": [
    "# Vector"
   ]
  },
  {
   "cell_type": "code",
   "execution_count": 29,
   "metadata": {},
   "outputs": [
    {
     "ename": "Error",
     "evalue": "mismatched types",
     "output_type": "error",
     "traceback": [
      "let vec1 = vec![3.14, 2, 4, false];",
      "\u001b[91m                      ^\u001b[0m \u001b[94mexpected floating-point number, found integer\u001b[0m",
      "mismatched types"
     ]
    }
   ],
   "source": [
    "let vec1 = vec![3.14, 2, 4, false];"
   ]
  },
  {
   "cell_type": "code",
   "execution_count": 30,
   "metadata": {},
   "outputs": [
    {
     "name": "stdout",
     "output_type": "stream",
     "text": [
      "vec1: [3.14, 2.0, 4.0, 101.23]\n"
     ]
    }
   ],
   "source": [
    "let vec1 = vec![3.14, 2., 4., 101.23];\n",
    "println!(\"vec1: {:?}\", vec1);"
   ]
  },
  {
   "cell_type": "code",
   "execution_count": 31,
   "metadata": {},
   "outputs": [
    {
     "data": {
      "text/plain": [
       "4"
      ]
     },
     "execution_count": 31,
     "metadata": {},
     "output_type": "execute_result"
    }
   ],
   "source": [
    "vec1.len()"
   ]
  },
  {
   "cell_type": "markdown",
   "metadata": {},
   "source": [
    "### Index"
   ]
  },
  {
   "cell_type": "code",
   "execution_count": 32,
   "metadata": {},
   "outputs": [
    {
     "ename": "Error",
     "evalue": "no field `3` on type `Vec<f64>`",
     "output_type": "error",
     "traceback": [
      "vec1.3",
      "\u001b[91m     ^\u001b[0m \u001b[94munknown field\u001b[0m",
      "no field `3` on type `Vec<f64>`"
     ]
    }
   ],
   "source": [
    "vec1.3"
   ]
  },
  {
   "cell_type": "code",
   "execution_count": 33,
   "metadata": {},
   "outputs": [
    {
     "data": {
      "text/plain": [
       "101.23"
      ]
     },
     "execution_count": 33,
     "metadata": {},
     "output_type": "execute_result"
    }
   ],
   "source": [
    "vec1[3]"
   ]
  },
  {
   "cell_type": "code",
   "execution_count": 34,
   "metadata": {},
   "outputs": [
    {
     "data": {
      "text/plain": [
       "[2.0, 4.0]"
      ]
     },
     "execution_count": 34,
     "metadata": {},
     "output_type": "execute_result"
    }
   ],
   "source": [
    "vec1[1..3]"
   ]
  },
  {
   "cell_type": "code",
   "execution_count": 35,
   "metadata": {},
   "outputs": [
    {
     "data": {
      "text/plain": [
       "2"
      ]
     },
     "execution_count": 35,
     "metadata": {},
     "output_type": "execute_result"
    }
   ],
   "source": [
    "vec1[1..3].len()"
   ]
  },
  {
   "cell_type": "markdown",
   "metadata": {},
   "source": [
    "### Mutability"
   ]
  },
  {
   "cell_type": "code",
   "execution_count": 36,
   "metadata": {},
   "outputs": [
    {
     "ename": "Error",
     "evalue": "cannot borrow `vec1` as mutable, as it is not declared as mutable",
     "output_type": "error",
     "traceback": [
      "cannot borrow as mutable",
      "cannot borrow `vec1` as mutable, as it is not declared as mutable",
      "\u001b[1mhelp\u001b[0m: consider changing this to be mutable\n\nmut vec1"
     ]
    }
   ],
   "source": [
    "vec1.pop()"
   ]
  },
  {
   "cell_type": "code",
   "execution_count": 74,
   "metadata": {},
   "outputs": [
    {
     "data": {
      "text/plain": [
       "Some(101.23)"
      ]
     },
     "execution_count": 74,
     "metadata": {},
     "output_type": "execute_result"
    }
   ],
   "source": [
    "let mut vec1 = vec![3.14, 2., 4., 101.23];\n",
    "vec1.pop()"
   ]
  },
  {
   "cell_type": "code",
   "execution_count": 75,
   "metadata": {},
   "outputs": [
    {
     "name": "stdout",
     "output_type": "stream",
     "text": [
      "vec1: [3.14, 2.0, 4.0]\n"
     ]
    }
   ],
   "source": [
    "println!(\"vec1: {:?}\", vec1);"
   ]
  },
  {
   "cell_type": "markdown",
   "metadata": {},
   "source": [
    "### Iteration"
   ]
  },
  {
   "cell_type": "code",
   "execution_count": 72,
   "metadata": {},
   "outputs": [
    {
     "name": "stdout",
     "output_type": "stream",
     "text": [
      "v: 3.14\n",
      "v: 2\n",
      "v: 4\n"
     ]
    }
   ],
   "source": [
    "for v in vec1 {\n",
    "    println!(\"v: {}\", v);\n",
    "};"
   ]
  },
  {
   "cell_type": "code",
   "execution_count": 73,
   "metadata": {},
   "outputs": [
    {
     "ename": "Error",
     "evalue": "cannot find value `vec1` in this scope",
     "output_type": "error",
     "traceback": [
      "for v in vec1 {",
      "\u001b[91m         ^^^^\u001b[0m \u001b[94mnot found in this scope\u001b[0m",
      "cannot find value `vec1` in this scope"
     ]
    }
   ],
   "source": [
    "for v in vec1 {\n",
    "    println!(\"v: {}\", v);\n",
    "};"
   ]
  },
  {
   "cell_type": "code",
   "execution_count": null,
   "metadata": {},
   "outputs": [],
   "source": []
  },
  {
   "cell_type": "code",
   "execution_count": 68,
   "metadata": {},
   "outputs": [
    {
     "name": "stdout",
     "output_type": "stream",
     "text": [
      "v: 3.14\n",
      "v: 2\n",
      "v: 4\n"
     ]
    }
   ],
   "source": [
    "for v in vec1.into_iter() {\n",
    "    println!(\"v: {}\", v);\n",
    "};"
   ]
  },
  {
   "cell_type": "code",
   "execution_count": 69,
   "metadata": {},
   "outputs": [
    {
     "ename": "Error",
     "evalue": "cannot find value `vec1` in this scope",
     "output_type": "error",
     "traceback": [
      "for v in vec1.into_iter() {",
      "\u001b[91m         ^^^^\u001b[0m \u001b[94mnot found in this scope\u001b[0m",
      "cannot find value `vec1` in this scope"
     ]
    }
   ],
   "source": [
    "for v in vec1.into_iter() {\n",
    "    println!(\"v: {}\", v);\n",
    "};"
   ]
  },
  {
   "cell_type": "code",
   "execution_count": null,
   "metadata": {},
   "outputs": [],
   "source": []
  },
  {
   "cell_type": "code",
   "execution_count": 76,
   "metadata": {},
   "outputs": [
    {
     "name": "stdout",
     "output_type": "stream",
     "text": [
      "v: 3.14\n",
      "v: 2\n",
      "v: 4\n"
     ]
    }
   ],
   "source": [
    "for v in &vec1 {\n",
    "    println!(\"v: {}\", v);\n",
    "};"
   ]
  },
  {
   "cell_type": "code",
   "execution_count": 77,
   "metadata": {},
   "outputs": [
    {
     "name": "stdout",
     "output_type": "stream",
     "text": [
      "v: 3.14\n",
      "v: 2\n",
      "v: 4\n"
     ]
    }
   ],
   "source": [
    "for v in &vec1 {\n",
    "    println!(\"v: {}\", v);\n",
    "};"
   ]
  },
  {
   "cell_type": "code",
   "execution_count": null,
   "metadata": {},
   "outputs": [],
   "source": []
  },
  {
   "cell_type": "code",
   "execution_count": 78,
   "metadata": {},
   "outputs": [
    {
     "name": "stdout",
     "output_type": "stream",
     "text": [
      "v: 3.14\n",
      "v: 2\n",
      "v: 4\n"
     ]
    }
   ],
   "source": [
    "for v in vec1.iter() {\n",
    "    println!(\"v: {}\", v);\n",
    "};"
   ]
  },
  {
   "cell_type": "code",
   "execution_count": 79,
   "metadata": {},
   "outputs": [
    {
     "name": "stdout",
     "output_type": "stream",
     "text": [
      "v: 3.14\n",
      "v: 2\n",
      "v: 4\n"
     ]
    }
   ],
   "source": [
    "for v in vec1.iter() {\n",
    "    println!(\"v: {}\", v);\n",
    "};"
   ]
  },
  {
   "cell_type": "code",
   "execution_count": null,
   "metadata": {},
   "outputs": [],
   "source": []
  },
  {
   "cell_type": "code",
   "execution_count": 80,
   "metadata": {},
   "outputs": [
    {
     "name": "stdout",
     "output_type": "stream",
     "text": [
      "i: 0, v: 3.14\n",
      "i: 1, v: 2\n",
      "i: 2, v: 4\n"
     ]
    }
   ],
   "source": [
    "for (i, v) in vec1.iter().enumerate() {\n",
    "    println!(\"i: {}, v: {}\", i, v);\n",
    "};"
   ]
  },
  {
   "cell_type": "code",
   "execution_count": null,
   "metadata": {},
   "outputs": [],
   "source": []
  },
  {
   "cell_type": "code",
   "execution_count": 81,
   "metadata": {},
   "outputs": [
    {
     "name": "stdout",
     "output_type": "stream",
     "text": [
      "v: 103.14\n",
      "v: 102\n",
      "v: 104\n"
     ]
    }
   ],
   "source": [
    "for v in vec1.iter_mut() {\n",
    "    *v += 100.;\n",
    "    println!(\"v: {}\", v);\n",
    "};"
   ]
  },
  {
   "cell_type": "code",
   "execution_count": 82,
   "metadata": {},
   "outputs": [
    {
     "data": {
      "text/plain": [
       "[103.14, 102.0, 104.0]"
      ]
     },
     "execution_count": 82,
     "metadata": {},
     "output_type": "execute_result"
    }
   ],
   "source": [
    "vec1"
   ]
  },
  {
   "cell_type": "code",
   "execution_count": 83,
   "metadata": {},
   "outputs": [
    {
     "name": "stdout",
     "output_type": "stream",
     "text": [
      "v: 203.14\n",
      "v: 202\n",
      "v: 204\n"
     ]
    }
   ],
   "source": [
    "for v in vec1.iter_mut() {\n",
    "    *v += 100.;\n",
    "    println!(\"v: {}\", v);\n",
    "};"
   ]
  },
  {
   "cell_type": "code",
   "execution_count": 84,
   "metadata": {},
   "outputs": [
    {
     "data": {
      "text/plain": [
       "[203.14, 202.0, 204.0]"
      ]
     },
     "execution_count": 84,
     "metadata": {},
     "output_type": "execute_result"
    }
   ],
   "source": [
    "vec1"
   ]
  },
  {
   "cell_type": "code",
   "execution_count": null,
   "metadata": {},
   "outputs": [],
   "source": []
  },
  {
   "cell_type": "code",
   "execution_count": 85,
   "metadata": {},
   "outputs": [
    {
     "name": "stdout",
     "output_type": "stream",
     "text": [
      "vec2: [2031.3999999999999, 2020.0, 2040.0]\n"
     ]
    }
   ],
   "source": [
    "let vec2: Vec<f64> = vec1.iter().map(|x| x * 10.0).collect();\n",
    "println!(\"vec2: {:?}\", vec2);"
   ]
  },
  {
   "cell_type": "code",
   "execution_count": 53,
   "metadata": {},
   "outputs": [
    {
     "name": "stdout",
     "output_type": "stream",
     "text": [
      "collector: [0, 1, 2, 3, 4, 5, 6, 7, 8, 9]\n"
     ]
    }
   ],
   "source": [
    "let collector: Vec<i32> = (0..10).collect();\n",
    "println!(\"collector: {:?}\", collector);"
   ]
  },
  {
   "cell_type": "code",
   "execution_count": null,
   "metadata": {},
   "outputs": [],
   "source": []
  },
  {
   "cell_type": "markdown",
   "metadata": {},
   "source": [
    "# Map\n",
    "Map is the concept similar to `dict` in Python\n",
    "\n",
    "```python\n",
    "literal = dict([('key', 'value'), ('blah', 'bubble')])\n",
    "```"
   ]
  },
  {
   "cell_type": "code",
   "execution_count": 54,
   "metadata": {},
   "outputs": [],
   "source": [
    "use std::collections::HashMap;"
   ]
  },
  {
   "cell_type": "code",
   "execution_count": 55,
   "metadata": {},
   "outputs": [
    {
     "name": "stdout",
     "output_type": "stream",
     "text": [
      "{\"key\": \"value\", \"blah\": \"bubble\"}\n"
     ]
    }
   ],
   "source": [
    "let literal: HashMap<_, _> = vec![\n",
    "    (\"key\", \"value\"), (\"blah\", \"bubble\")].into_iter().collect();\n",
    "\n",
    "println!(\"{:?}\", literal);"
   ]
  },
  {
   "cell_type": "code",
   "execution_count": 56,
   "metadata": {},
   "outputs": [
    {
     "name": "stdout",
     "output_type": "stream",
     "text": [
      "{\"two\": 2, \"one\": 1}\n",
      "{\"two\": 2}\n"
     ]
    }
   ],
   "source": [
    "let mut mutable = HashMap::new();\n",
    "\n",
    "mutable.insert(\"one\", 1);\n",
    "mutable.insert(\"two\", 2);\n",
    "println!(\"{:?}\", mutable);\n",
    "\n",
    "mutable.remove(\"one\");\n",
    "println!(\"{:?}\", mutable);"
   ]
  },
  {
   "cell_type": "code",
   "execution_count": 57,
   "metadata": {},
   "outputs": [
    {
     "name": "stdout",
     "output_type": "stream",
     "text": [
      "None\n"
     ]
    }
   ],
   "source": [
    "println!(\"{:?}\", mutable.get(\"one\"));"
   ]
  },
  {
   "cell_type": "code",
   "execution_count": 58,
   "metadata": {},
   "outputs": [
    {
     "name": "stdout",
     "output_type": "stream",
     "text": [
      "Some(2)\n"
     ]
    }
   ],
   "source": [
    "println!(\"{:?}\", mutable.get(\"two\"));"
   ]
  },
  {
   "cell_type": "code",
   "execution_count": 59,
   "metadata": {},
   "outputs": [
    {
     "name": "stdout",
     "output_type": "stream",
     "text": [
      "key: two, val: 2\n",
      "key: 3rd, val: 3\n"
     ]
    }
   ],
   "source": [
    "mutable.insert(\"3rd\", 3);\n",
    "for (key, val) in &mutable {\n",
    "    println!(\"key: {}, val: {}\", key, val);\n",
    "};"
   ]
  },
  {
   "cell_type": "code",
   "execution_count": null,
   "metadata": {},
   "outputs": [],
   "source": []
  },
  {
   "cell_type": "code",
   "execution_count": 60,
   "metadata": {},
   "outputs": [],
   "source": [
    "#[macro_use] extern crate maplit;"
   ]
  },
  {
   "cell_type": "code",
   "execution_count": 61,
   "metadata": {},
   "outputs": [
    {
     "name": "stderr",
     "output_type": "stream",
     "text": [
      "The type of the variable mat1 was redefined, so was lost.\n"
     ]
    },
    {
     "name": "stdout",
     "output_type": "stream",
     "text": [
      "{\"key2\": 2, \"key1\": 1}\n"
     ]
    }
   ],
   "source": [
    "let map = hashmap!{\n",
    "    \"key1\" => 1,\n",
    "    \"key2\" => 2,\n",
    "};\n",
    "\n",
    "println!(\"{:?}\", map);"
   ]
  },
  {
   "cell_type": "code",
   "execution_count": null,
   "metadata": {},
   "outputs": [],
   "source": []
  },
  {
   "cell_type": "code",
   "execution_count": 62,
   "metadata": {},
   "outputs": [
    {
     "name": "stdout",
     "output_type": "stream",
     "text": [
      "d: {\"bbq\": [12], \"cat\": [12], \"ant\": [0]}\n"
     ]
    }
   ],
   "source": [
    "let mut d: HashMap<String, Vec<i32>> = HashMap::new();\n",
    "\n",
    "d.entry(\"ant\".to_string())\n",
    "    .or_insert_with(Vec::new)\n",
    "    .push(0);\n",
    "\n",
    "d.entry(\"bbq\".to_string())\n",
    "    .or_insert_with(Vec::new)\n",
    "    .push(12);\n",
    "\n",
    "d.entry(\"cat\".to_string())\n",
    "    .or_insert_with(Vec::new)\n",
    "    .push(12);\n",
    "\n",
    "println!(\"d: {:?}\", d);"
   ]
  },
  {
   "cell_type": "code",
   "execution_count": 63,
   "metadata": {},
   "outputs": [
    {
     "name": "stdout",
     "output_type": "stream",
     "text": [
      "key: \"bbq\"\n",
      "key: \"cat\"\n",
      "key: \"ant\"\n"
     ]
    }
   ],
   "source": [
    "for key in d.keys() {\n",
    "    println!(\"key: {:?}\", key);\n",
    "};"
   ]
  },
  {
   "cell_type": "code",
   "execution_count": 64,
   "metadata": {},
   "outputs": [
    {
     "name": "stdout",
     "output_type": "stream",
     "text": [
      "val: [12]\n",
      "val: [12]\n",
      "val: [0]\n"
     ]
    }
   ],
   "source": [
    "for val in d.values() {\n",
    "    println!(\"val: {:?}\", val);\n",
    "};"
   ]
  },
  {
   "cell_type": "code",
   "execution_count": null,
   "metadata": {},
   "outputs": [],
   "source": []
  },
  {
   "cell_type": "code",
   "execution_count": 65,
   "metadata": {},
   "outputs": [
    {
     "name": "stdout",
     "output_type": "stream",
     "text": [
      "hm: {(3, 7): [1, 2, 3, 6, 9]}\n"
     ]
    }
   ],
   "source": [
    "let mut hm: HashMap<(i32, i32), Vec<i32>> = HashMap::new();\n",
    "hm.insert((3, 7), vec![1, 2, 3, 6, 9]);\n",
    "println!(\"hm: {:?}\", hm);"
   ]
  },
  {
   "cell_type": "code",
   "execution_count": null,
   "metadata": {},
   "outputs": [],
   "source": []
  }
 ],
 "metadata": {
  "kernelspec": {
   "display_name": "Rust",
   "language": "rust",
   "name": "rust"
  },
  "language_info": {
   "codemirror_mode": "rust",
   "file_extension": ".rs",
   "mimetype": "text/rust",
   "name": "Rust",
   "pygment_lexer": "rust",
   "version": ""
  }
 },
 "nbformat": 4,
 "nbformat_minor": 2
}
