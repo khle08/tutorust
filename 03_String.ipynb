{
 "cells": [
  {
   "cell_type": "markdown",
   "metadata": {},
   "source": [
    "# String"
   ]
  },
  {
   "cell_type": "code",
   "execution_count": 2,
   "metadata": {},
   "outputs": [
    {
     "name": "stdout",
     "output_type": "stream",
     "text": [
      "origin: hello world\n"
     ]
    }
   ],
   "source": [
    "let str = String::from(\"hello world\");\n",
    "println!(\"origin: {}\", str);"
   ]
  },
  {
   "cell_type": "code",
   "execution_count": 3,
   "metadata": {},
   "outputs": [
    {
     "name": "stdout",
     "output_type": "stream",
     "text": [
      "replace: hi world\n"
     ]
    }
   ],
   "source": [
    "let part: String = str.replace(\"hello\", \"hi\");\n",
    "println!(\"replace: {}\", part);"
   ]
  },
  {
   "cell_type": "code",
   "execution_count": null,
   "metadata": {},
   "outputs": [],
   "source": []
  },
  {
   "cell_type": "code",
   "execution_count": 4,
   "metadata": {},
   "outputs": [
    {
     "name": "stdout",
     "output_type": "stream",
     "text": [
      "fixed: the string that will remain until the program is closed\n"
     ]
    }
   ],
   "source": [
    "let pangram: &'static str = \"the string that will remain until the program is closed\";\n",
    "println!(\"fixed: {}\", pangram);"
   ]
  },
  {
   "cell_type": "code",
   "execution_count": 5,
   "metadata": {},
   "outputs": [
    {
     "name": "stdout",
     "output_type": "stream",
     "text": [
      "pan: the string that will maintain until the program is closed\n"
     ]
    }
   ],
   "source": [
    "let pan: String = pangram.replace(\"remain\", \"maintain\");\n",
    "println!(\"pan: {}\", pan);"
   ]
  },
  {
   "cell_type": "code",
   "execution_count": null,
   "metadata": {},
   "outputs": [],
   "source": []
  },
  {
   "cell_type": "code",
   "execution_count": 6,
   "metadata": {
    "scrolled": true
   },
   "outputs": [
    {
     "name": "stdout",
     "output_type": "stream",
     "text": [
      "SplitWhitespace { inner: Filter { iter: Split(SplitInternal { start: 0, end: 55, matcher: CharPredicateSearcher { haystack: \"the string that will remain until the program is closed\", char_indices: CharIndices { front_offset: 0, iter: Chars(['t', 'h', 'e', ' ', 's', 't', 'r', 'i', 'n', 'g', ' ', 't', 'h', 'a', 't', ' ', 'w', 'i', 'l', 'l', ' ', 'r', 'e', 'm', 'a', 'i', 'n', ' ', 'u', 'n', 't', 'i', 'l', ' ', 't', 'h', 'e', ' ', 'p', 'r', 'o', 'g', 'r', 'a', 'm', ' ', 'i', 's', ' ', 'c', 'l', 'o', 's', 'e', 'd']) } }, allow_trailing_empty: true, finished: false }) } }\n"
     ]
    }
   ],
   "source": [
    "println!(\"{:?}\", pangram.split_whitespace());"
   ]
  },
  {
   "cell_type": "code",
   "execution_count": 7,
   "metadata": {},
   "outputs": [
    {
     "name": "stdout",
     "output_type": "stream",
     "text": [
      "> closed\n",
      "> is\n",
      "> program\n",
      "> the\n",
      "> until\n",
      "> remain\n",
      "> will\n",
      "> that\n",
      "> string\n",
      "> the\n"
     ]
    },
    {
     "data": {
      "text/plain": [
       "()"
      ]
     },
     "execution_count": 7,
     "metadata": {},
     "output_type": "execute_result"
    }
   ],
   "source": [
    "for w in pangram.split_whitespace().rev() {\n",
    "    println!(\"> {}\", w);\n",
    "}"
   ]
  },
  {
   "cell_type": "code",
   "execution_count": null,
   "metadata": {},
   "outputs": [],
   "source": []
  },
  {
   "cell_type": "code",
   "execution_count": 8,
   "metadata": {},
   "outputs": [
    {
     "name": "stdout",
     "output_type": "stream",
     "text": [
      "Chars(['t', 'h', 'e', ' ', 's', 't', 'r', 'i', 'n', 'g', ' ', 't', 'h', 'a', 't', ' ', 'w', 'i', 'l', 'l', ' ', 'r', 'e', 'm', 'a', 'i', 'n', ' ', 'u', 'n', 't', 'i', 'l', ' ', 't', 'h', 'e', ' ', 'p', 'r', 'o', 'g', 'r', 'a', 'm', ' ', 'i', 's', ' ', 'c', 'l', 'o', 's', 'e', 'd'])\n"
     ]
    }
   ],
   "source": [
    "println!(\"{:?}\", pangram.chars());"
   ]
  },
  {
   "cell_type": "code",
   "execution_count": 9,
   "metadata": {
    "scrolled": true
   },
   "outputs": [
    {
     "name": "stdout",
     "output_type": "stream",
     "text": [
      "['t', 'h', 'e', ' ', 's', 't', 'r', 'i', 'n', 'g', ' ', 't', 'h', 'a', 't', ' ', 'w', 'i', 'l', 'l', ' ', 'r', 'e', 'm', 'a', 'i', 'n', ' ', 'u', 'n', 't', 'i', 'l', ' ', 't', 'h', 'e', ' ', 'p', 'r', 'o', 'g', 'r', 'a', 'm', ' ', 'i', 's', ' ', 'c', 'l', 'o', 's', 'e', 'd']\n"
     ]
    }
   ],
   "source": [
    "let mut chars: Vec<char> = pangram.chars().collect();\n",
    "println!(\"{:?}\", chars);"
   ]
  },
  {
   "cell_type": "code",
   "execution_count": 10,
   "metadata": {},
   "outputs": [
    {
     "name": "stdout",
     "output_type": "stream",
     "text": [
      "[' ', ' ', ' ', ' ', ' ', ' ', ' ', ' ', ' ', 'a', 'a', 'a', 'c', 'd', 'e', 'e', 'e', 'e', 'g', 'g', 'h', 'h', 'h', 'i', 'i', 'i', 'i', 'i', 'l', 'l', 'l', 'l', 'm', 'm', 'n', 'n', 'n', 'o', 'o', 'p', 'r', 'r', 'r', 'r', 's', 's', 's', 't', 't', 't', 't', 't', 't', 'u', 'w']\n"
     ]
    }
   ],
   "source": [
    "chars.sort();\n",
    "println!(\"{:?}\", chars);"
   ]
  },
  {
   "cell_type": "code",
   "execution_count": 11,
   "metadata": {},
   "outputs": [
    {
     "name": "stdout",
     "output_type": "stream",
     "text": [
      "[' ', 'a', 'c', 'd', 'e', 'g', 'h', 'i', 'l', 'm', 'n', 'o', 'p', 'r', 's', 't', 'u', 'w']\n"
     ]
    }
   ],
   "source": [
    "chars.dedup();\n",
    "println!(\"{:?}\", chars);"
   ]
  },
  {
   "cell_type": "code",
   "execution_count": null,
   "metadata": {},
   "outputs": [],
   "source": []
  },
  {
   "cell_type": "code",
   "execution_count": 12,
   "metadata": {},
   "outputs": [],
   "source": [
    "let mut string = String::new();\n",
    "for c in chars {\n",
    "    string.push(c);\n",
    "    string.push_str(\", \");\n",
    "};"
   ]
  },
  {
   "cell_type": "code",
   "execution_count": 13,
   "metadata": {},
   "outputs": [
    {
     "name": "stdout",
     "output_type": "stream",
     "text": [
      "\" , a, c, d, e, g, h, i, l, m, n, o, p, r, s, t, u, w, \"\n"
     ]
    }
   ],
   "source": [
    "println!(\"{:?}\", string);"
   ]
  },
  {
   "cell_type": "code",
   "execution_count": null,
   "metadata": {},
   "outputs": [],
   "source": []
  },
  {
   "cell_type": "code",
   "execution_count": 14,
   "metadata": {},
   "outputs": [
    {
     "ename": "Error",
     "evalue": "`string` does not live long enough",
     "output_type": "error",
     "traceback": [
      "let trimmed_str: &str = string.trim_matches(chars_to_trim);",
      "\u001b[91m                        ^^^^^^^^^^^^^^^^^^^^^^^^^^^^^^^^^^\u001b[0m \u001b[94mborrowed value does not live long enough\u001b[0m",
      "let trimmed_str: &str = string.trim_matches(chars_to_trim);",
      "\u001b[91m                        ^^^^^^^^^^^^^^^^^^^^^^^^^^^^^^^^^^\u001b[0m \u001b[94margument requires that `string` is borrowed for `'static`\u001b[0m",
      "`string` does not live long enough"
     ]
    },
    {
     "ename": "Error",
     "evalue": "cannot move out of `string` because it is borrowed",
     "output_type": "error",
     "traceback": [
      "let trimmed_str: &str = string.trim_matches(chars_to_trim);",
      "\u001b[91m                        ^^^^^^^^^^^^^^^^^^^^^^^^^^^^^^^^^^\u001b[0m \u001b[94mborrow of `string` occurs here\u001b[0m",
      "let trimmed_str: &str = string.trim_matches(chars_to_trim);",
      "\u001b[91m                        ^^^^^^^^^^^^^^^^^^^^^^^^^^^^^^^^^^\u001b[0m \u001b[94margument requires that `string` is borrowed for `'static`\u001b[0m",
      "cannot move out of `string` because it is borrowed"
     ]
    }
   ],
   "source": [
    "let chars_to_trim: &[char] = &[' ', ','];\n",
    "let trimmed_str: &str = string.trim_matches(chars_to_trim);"
   ]
  },
  {
   "cell_type": "code",
   "execution_count": null,
   "metadata": {},
   "outputs": [],
   "source": []
  },
  {
   "cell_type": "code",
   "execution_count": null,
   "metadata": {},
   "outputs": [],
   "source": []
  },
  {
   "cell_type": "code",
   "execution_count": 15,
   "metadata": {},
   "outputs": [
    {
     "name": "stdout",
     "output_type": "stream",
     "text": [
      "'hello' -> length: 5 chars: 5 memsize: 29\n"
     ]
    }
   ],
   "source": [
    "let ascii = String::from(\"hello\");\n",
    "println!(\n",
    "    \"'{}' -> length: {} chars: {} memsize: {}\",\n",
    "    ascii, ascii.len(), ascii.chars().count(),\n",
    "    std::mem::size_of::<String>() + ascii.len()\n",
    ");"
   ]
  },
  {
   "cell_type": "code",
   "execution_count": 16,
   "metadata": {},
   "outputs": [
    {
     "name": "stdout",
     "output_type": "stream",
     "text": [
      "[104, 101, 108, 108, 111]\n"
     ]
    }
   ],
   "source": [
    "println!(\"{:?}\", ascii.as_bytes());"
   ]
  },
  {
   "cell_type": "code",
   "execution_count": 17,
   "metadata": {},
   "outputs": [
    {
     "name": "stdout",
     "output_type": "stream",
     "text": [
      "after e: \"llo\"\n"
     ]
    }
   ],
   "source": [
    "println!(\"after e: {:?}\", &ascii[2..]);"
   ]
  },
  {
   "cell_type": "code",
   "execution_count": null,
   "metadata": {},
   "outputs": [],
   "source": []
  },
  {
   "cell_type": "code",
   "execution_count": 18,
   "metadata": {},
   "outputs": [
    {
     "name": "stdout",
     "output_type": "stream",
     "text": [
      "\"many\\nlines\\n    whitespace\"\n"
     ]
    }
   ],
   "source": [
    "let multilines = \"many\n",
    "lines\n",
    "    whitespace\".to_string();\n",
    "\n",
    "println!(\"{:?}\", multilines);"
   ]
  },
  {
   "cell_type": "code",
   "execution_count": null,
   "metadata": {},
   "outputs": [],
   "source": []
  },
  {
   "cell_type": "markdown",
   "metadata": {},
   "source": [
    "# Other Operations"
   ]
  },
  {
   "cell_type": "code",
   "execution_count": 19,
   "metadata": {},
   "outputs": [
    {
     "name": "stdout",
     "output_type": "stream",
     "text": [
      "a new string created\n"
     ]
    }
   ],
   "source": [
    "let mut s100: &str = \"a new string created\";\n",
    "println!(\"{}\", s100);"
   ]
  },
  {
   "cell_type": "code",
   "execution_count": 20,
   "metadata": {},
   "outputs": [
    {
     "name": "stdout",
     "output_type": "stream",
     "text": [
      "a new string created\n"
     ]
    }
   ],
   "source": [
    "let mut s200: String = String::from(\"a new string created\");\n",
    "println!(\"{}\", s200.to_string());"
   ]
  },
  {
   "cell_type": "code",
   "execution_count": 21,
   "metadata": {},
   "outputs": [
    {
     "ename": "Error",
     "evalue": "no method named `push` found for reference `&str` in the current scope",
     "output_type": "error",
     "traceback": [
      "s100.push(\" ...here\");",
      "\u001b[91m     ^^^^\u001b[0m \u001b[94mmethod not found in `&str`\u001b[0m",
      "no method named `push` found for reference `&str` in the current scope"
     ]
    }
   ],
   "source": [
    "s100.push(\" ...here\");\n",
    "println!(\"s100: {}\", s100);"
   ]
  },
  {
   "cell_type": "code",
   "execution_count": 22,
   "metadata": {},
   "outputs": [
    {
     "data": {
      "text/plain": [
       "\"a new string createda\""
      ]
     },
     "execution_count": 22,
     "metadata": {},
     "output_type": "execute_result"
    }
   ],
   "source": [
    "s200.push('a');\n",
    "s200"
   ]
  },
  {
   "cell_type": "code",
   "execution_count": 23,
   "metadata": {},
   "outputs": [
    {
     "data": {
      "text/plain": [
       "\"a new string createda ...here  \""
      ]
     },
     "execution_count": 23,
     "metadata": {},
     "output_type": "execute_result"
    }
   ],
   "source": [
    "s200.push_str(\" ...here  \");\n",
    "s200"
   ]
  },
  {
   "cell_type": "code",
   "execution_count": 24,
   "metadata": {},
   "outputs": [
    {
     "name": "stdout",
     "output_type": "stream",
     "text": [
      "len: 31\n",
      "len: 29\n"
     ]
    }
   ],
   "source": [
    "println!(\"len: {}\", s200.len());\n",
    "s200 = s200.trim().to_string();\n",
    "println!(\"len: {}\", s200.len());"
   ]
  },
  {
   "cell_type": "code",
   "execution_count": 25,
   "metadata": {},
   "outputs": [
    {
     "data": {
      "text/plain": [
       "\"anewstringcreateda...here\""
      ]
     },
     "execution_count": 25,
     "metadata": {},
     "output_type": "execute_result"
    }
   ],
   "source": [
    "let s201 = s200.split(\" \").collect();\n",
    "s201"
   ]
  },
  {
   "cell_type": "code",
   "execution_count": 26,
   "metadata": {},
   "outputs": [
    {
     "ename": "Error",
     "evalue": "`temp` does not live long enough",
     "output_type": "error",
     "traceback": [
      "let vec201: Vec<&str> = temp.split(\".\").collect();",
      "\u001b[91m                        ^^^^^^^^^^^^^^^\u001b[0m \u001b[94mborrowed value does not live long enough\u001b[0m",
      "let vec201: Vec<&str> = temp.split(\".\").collect();",
      "\u001b[91m                        ^^^^^^^^^^^^^^^\u001b[0m \u001b[94margument requires that `temp` is borrowed for `'static`\u001b[0m",
      "`temp` does not live long enough"
     ]
    }
   ],
   "source": [
    "let temp = s201.to_string();\n",
    "let vec201: Vec<&str> = temp.split(\".\").collect();\n",
    "vec201"
   ]
  },
  {
   "cell_type": "code",
   "execution_count": 27,
   "metadata": {},
   "outputs": [
    {
     "data": {
      "text/plain": [
       "[\"a\", \"new\", \"string\", \"created\"]"
      ]
     },
     "execution_count": 27,
     "metadata": {},
     "output_type": "execute_result"
    }
   ],
   "source": [
    "let vec100: Vec<&str> = s100.split(\" \").collect();\n",
    "vec100"
   ]
  },
  {
   "cell_type": "code",
   "execution_count": null,
   "metadata": {},
   "outputs": [],
   "source": []
  },
  {
   "cell_type": "code",
   "execution_count": null,
   "metadata": {},
   "outputs": [],
   "source": []
  },
  {
   "cell_type": "code",
   "execution_count": null,
   "metadata": {},
   "outputs": [],
   "source": []
  }
 ],
 "metadata": {
  "kernelspec": {
   "display_name": "Rust",
   "language": "rust",
   "name": "rust"
  },
  "language_info": {
   "codemirror_mode": "rust",
   "file_extension": ".rs",
   "mimetype": "text/rust",
   "name": "Rust",
   "pygment_lexer": "rust",
   "version": ""
  }
 },
 "nbformat": 4,
 "nbformat_minor": 2
}
