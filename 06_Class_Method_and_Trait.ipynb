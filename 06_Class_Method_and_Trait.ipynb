{
 "cells": [
  {
   "cell_type": "markdown",
   "metadata": {},
   "source": [
    "# Brief"
   ]
  },
  {
   "cell_type": "code",
   "execution_count": 2,
   "metadata": {},
   "outputs": [],
   "source": [
    "trait newTrait {\n",
    "    fn newMethod(&self) {\n",
    "        println!(\"This is a new method\");\n",
    "    }\n",
    "}\n",
    "\n",
    "impl newTrait for bool {}"
   ]
  },
  {
   "cell_type": "code",
   "execution_count": 3,
   "metadata": {},
   "outputs": [
    {
     "name": "stdout",
     "output_type": "stream",
     "text": [
      "This is a new method\n"
     ]
    }
   ],
   "source": [
    "let t: bool = true;\n",
    "t.newMethod();"
   ]
  },
  {
   "cell_type": "code",
   "execution_count": null,
   "metadata": {},
   "outputs": [],
   "source": []
  },
  {
   "cell_type": "markdown",
   "metadata": {},
   "source": [
    "# Trait for Iterator"
   ]
  },
  {
   "cell_type": "code",
   "execution_count": 6,
   "metadata": {},
   "outputs": [],
   "source": [
    "pub struct Counter {\n",
    "    count: u32,\n",
    "}\n",
    "\n",
    "impl Counter {\n",
    "    pub fn new() -> Self {\n",
    "        Self {count: 0}\n",
    "    }\n",
    "}\n",
    "\n",
    "impl Iterator for Counter {\n",
    "    type Item = u32;\n",
    "    \n",
    "    fn next(&mut self) -> Option<Self::Item> {\n",
    "        if self.count < 5 {\n",
    "            self.count += 1;\n",
    "            Some(self.count)\n",
    "        } else {\n",
    "            None\n",
    "        }\n",
    "    }\n",
    "}"
   ]
  },
  {
   "cell_type": "code",
   "execution_count": 10,
   "metadata": {},
   "outputs": [
    {
     "name": "stdout",
     "output_type": "stream",
     "text": [
      "cnt: Some(1)\n",
      "cnt: Some(2)\n",
      "cnt: Some(3)\n",
      "cnt: Some(4)\n",
      "cnt: Some(5)\n",
      "cnt: None\n"
     ]
    }
   ],
   "source": [
    "let mut cnt = Counter::new();\n",
    "println!(\"cnt: {:?}\", cnt.next());\n",
    "println!(\"cnt: {:?}\", cnt.next());\n",
    "println!(\"cnt: {:?}\", cnt.next());\n",
    "println!(\"cnt: {:?}\", cnt.next());\n",
    "println!(\"cnt: {:?}\", cnt.next());\n",
    "println!(\"cnt: {:?}\", cnt.next());"
   ]
  },
  {
   "cell_type": "code",
   "execution_count": null,
   "metadata": {},
   "outputs": [],
   "source": []
  },
  {
   "cell_type": "markdown",
   "metadata": {},
   "source": [
    "# "
   ]
  },
  {
   "cell_type": "code",
   "execution_count": null,
   "metadata": {},
   "outputs": [],
   "source": []
  },
  {
   "cell_type": "code",
   "execution_count": null,
   "metadata": {},
   "outputs": [],
   "source": []
  }
 ],
 "metadata": {
  "kernelspec": {
   "display_name": "Rust",
   "language": "rust",
   "name": "rust"
  },
  "language_info": {
   "codemirror_mode": "rust",
   "file_extension": ".rs",
   "mimetype": "text/rust",
   "name": "Rust",
   "pygment_lexer": "rust",
   "version": ""
  }
 },
 "nbformat": 4,
 "nbformat_minor": 2
}
