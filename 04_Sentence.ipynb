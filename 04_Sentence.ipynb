{
 "cells": [
  {
   "cell_type": "code",
   "execution_count": 20,
   "metadata": {},
   "outputs": [
    {
     "name": "stdout",
     "output_type": "stream",
     "text": [
      "special day: Fool\n",
      "4\n"
     ]
    }
   ],
   "source": [
    "#[derive(Debug)]\n",
    "enum Day {\n",
    "  Fool,\n",
    "  Child,\n",
    "}\n",
    "\n",
    "enum Month {\n",
    "  January,\n",
    "  Feburary,\n",
    "  March,\n",
    "  April(Day),\n",
    "}\n",
    "\n",
    "fn match_month(month: Month) -> u8 {\n",
    "  match month {\n",
    "    Month::March => 3,\n",
    "    Month::April(day) => {\n",
    "      println!(\"special day: {:?}\", day);\n",
    "      4\n",
    "    },\n",
    "    _ => 7,\n",
    "  }\n",
    "}\n",
    "\n",
    "let m = Month::April(Day::Fool);\n",
    "println!(\"{}\", match_month(m));"
   ]
  },
  {
   "cell_type": "code",
   "execution_count": 21,
   "metadata": {},
   "outputs": [
    {
     "name": "stdout",
     "output_type": "stream",
     "text": [
      "7\n"
     ]
    }
   ],
   "source": [
    "let j = Month::January;\n",
    "println!(\"{}\", match_month(j));"
   ]
  },
  {
   "cell_type": "code",
   "execution_count": null,
   "metadata": {},
   "outputs": [],
   "source": []
  },
  {
   "cell_type": "code",
   "execution_count": null,
   "metadata": {},
   "outputs": [],
   "source": []
  },
  {
   "cell_type": "code",
   "execution_count": 4,
   "metadata": {},
   "outputs": [
    {
     "name": "stdout",
     "output_type": "stream",
     "text": [
      "arr1[0] = 1\n",
      "arr1[1] = 2\n",
      "arr1[2] = 3\n",
      "arr1[3] = 4\n",
      "arr1[4] = 5\n"
     ]
    }
   ],
   "source": [
    "let arr1 = [1, 2, 3, 4, 5];\n",
    "let mut idx = 0;\n",
    "\n",
    "while idx < 5 {\n",
    "    println!(\"arr1[{}] = {}\", idx, arr1[idx]);\n",
    "    idx += 1;\n",
    "};"
   ]
  },
  {
   "cell_type": "code",
   "execution_count": null,
   "metadata": {},
   "outputs": [],
   "source": []
  },
  {
   "cell_type": "markdown",
   "metadata": {},
   "source": [
    "# For loop"
   ]
  },
  {
   "cell_type": "code",
   "execution_count": 5,
   "metadata": {},
   "outputs": [
    {
     "name": "stdout",
     "output_type": "stream",
     "text": [
      "i = 1\n",
      "i = 2\n",
      "i = 3\n",
      "i = 4\n"
     ]
    }
   ],
   "source": [
    "for i in 1..5 {\n",
    "    println!(\"i = {}\", i);\n",
    "};"
   ]
  },
  {
   "cell_type": "code",
   "execution_count": null,
   "metadata": {},
   "outputs": [],
   "source": []
  }
 ],
 "metadata": {
  "kernelspec": {
   "display_name": "Rust",
   "language": "rust",
   "name": "rust"
  },
  "language_info": {
   "codemirror_mode": "rust",
   "file_extension": ".rs",
   "mimetype": "text/rust",
   "name": "Rust",
   "pygment_lexer": "rust",
   "version": ""
  }
 },
 "nbformat": 4,
 "nbformat_minor": 2
}
