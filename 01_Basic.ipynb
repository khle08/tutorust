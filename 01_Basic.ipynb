{
 "cells": [
  {
   "cell_type": "markdown",
   "metadata": {},
   "source": [
    "# Brief\n",
    "Why do we need to learn `rust` programming language instead of some simpler options such as `python`? The main reason is the speed! Rust can run 100 times faster than Python and it can be compiled into binary code to run on any other computer under the same operating system. In addition, `rust` can design functions for python so that the python code can also speed up. `Rust` has good native talent on multi cores cooperation. We do not need to optimize it before compiling.\n",
    "\n",
    "| Python | Rust |\n",
    "| ---    | ---  |\n",
    "| interpreted | compiled |\n",
    "| strongly, dynamically typed | strongly and statically typed |\n",
    "| garbage collected | static memory management |\n",
    "| structured, object-oriented, functional | structured, object-oriented, functional, concurrent |\n",
    "| exceptions | no exceptions |\n",
    "| duck-typing, OO inheritance | no inheritance, use `traits` |\n",
    "| stable since 2008 | stable since 2015 |"
   ]
  },
  {
   "cell_type": "code",
   "execution_count": 2,
   "metadata": {},
   "outputs": [
    {
     "name": "stdout",
     "output_type": "stream",
     "text": [
      "hello world\n"
     ]
    }
   ],
   "source": [
    "println!(\"hello world\");"
   ]
  },
  {
   "cell_type": "markdown",
   "metadata": {},
   "source": [
    "# Simple Definitions\n",
    "The definitions of `rust` is very similar to Python. The only thing that changed is the declaration of data type for each variable being used in the code."
   ]
  },
  {
   "cell_type": "code",
   "execution_count": 3,
   "metadata": {},
   "outputs": [],
   "source": [
    "fn add(x: i16, y: i16) -> i16 {\n",
    "    // The data type of input variables and the output of this function should be clearly defined.\n",
    "\n",
    "    /* The output of the func is the last line by default ...\n",
    "       ... Even without \"return\" the value. */\n",
    "    x + y\n",
    "}"
   ]
  },
  {
   "cell_type": "code",
   "execution_count": 4,
   "metadata": {},
   "outputs": [],
   "source": [
    "fn multiply(x: i16, y: i16) -> i16 {\n",
    "    // Same definition, types can also be i32, i64, f32, f64, ... more.\n",
    "\n",
    "    /* It is also fine to use \"return\" ...\n",
    "       ... to return the value from the func. */\n",
    "    return x * y;\n",
    "}"
   ]
  },
  {
   "cell_type": "markdown",
   "metadata": {},
   "source": [
    "In `jupyter`, if there is no `;` at the end, the value will be print out as the output."
   ]
  },
  {
   "cell_type": "code",
   "execution_count": 5,
   "metadata": {},
   "outputs": [
    {
     "data": {
      "text/plain": [
       "8"
      ]
     },
     "execution_count": 5,
     "metadata": {},
     "output_type": "execute_result"
    }
   ],
   "source": [
    "add(5, 3)"
   ]
  },
  {
   "cell_type": "markdown",
   "metadata": {},
   "source": [
    "If there is `;` at the end, `jupyter` will run it but not print it out."
   ]
  },
  {
   "cell_type": "code",
   "execution_count": 6,
   "metadata": {},
   "outputs": [],
   "source": [
    "multiply(5, 3);"
   ]
  },
  {
   "cell_type": "markdown",
   "metadata": {},
   "source": [
    "It is also fine to print out the output by `println` function. Note that the thing have to be `string` type so that it can be print out successfully"
   ]
  },
  {
   "cell_type": "code",
   "execution_count": 7,
   "metadata": {},
   "outputs": [
    {
     "name": "stdout",
     "output_type": "stream",
     "text": [
      "mul: 15\n"
     ]
    }
   ],
   "source": [
    "println!(\"mul: {}\", multiply(5, 3));"
   ]
  },
  {
   "cell_type": "markdown",
   "metadata": {},
   "source": [
    "Even thought the object in `println` is a string type object, it still has to strictly follow the `string` format such that:\n",
    "\n",
    "```rust\n",
    "\"something ... {} ... in the bracket\"\n",
    "```"
   ]
  },
  {
   "cell_type": "code",
   "execution_count": 8,
   "metadata": {},
   "outputs": [],
   "source": [
    "let txt = format!(\"mul: {}\", multiply(5, 3));"
   ]
  },
  {
   "cell_type": "code",
   "execution_count": 9,
   "metadata": {
    "scrolled": true
   },
   "outputs": [
    {
     "data": {
      "text/plain": [
       "\"mul: 15\""
      ]
     },
     "execution_count": 9,
     "metadata": {},
     "output_type": "execute_result"
    }
   ],
   "source": [
    "txt"
   ]
  },
  {
   "cell_type": "code",
   "execution_count": 10,
   "metadata": {},
   "outputs": [
    {
     "name": "stdout",
     "output_type": "stream",
     "text": [
      "mul: 15\n"
     ]
    }
   ],
   "source": [
    "println!(\"{}\", txt);"
   ]
  },
  {
   "cell_type": "code",
   "execution_count": 11,
   "metadata": {},
   "outputs": [
    {
     "ename": "Error",
     "evalue": "format argument must be a string literal",
     "output_type": "error",
     "traceback": [
      "println!(txt);",
      "\u001b[91m         ^^^\u001b[0m \u001b[94m\u001b[0m",
      "format argument must be a string literal",
      "\u001b[1mhelp\u001b[0m: you might be missing a string literal to format with\n\n\"{}\","
     ]
    }
   ],
   "source": [
    "println!(txt);"
   ]
  },
  {
   "cell_type": "markdown",
   "metadata": {},
   "source": [
    "# Variables and Some Hidden Rules\n",
    "When we are coding in `python`, the variable declaration is very simple by calling something as follows.\n",
    "```python\n",
    "a = 3\n",
    "b = None\n",
    "```\n",
    "We can do whatever we want to these variables no matter if the they are under the same data type. However, there are three main differences in `rust`.\n",
    "\n",
    "1. Initialization\n",
    "2. Mutability\n",
    "3. Constant\n",
    "\n"
   ]
  },
  {
   "cell_type": "code",
   "execution_count": 12,
   "metadata": {},
   "outputs": [
    {
     "ename": "Error",
     "evalue": "mismatched types",
     "output_type": "error",
     "traceback": [
      "println!(\"m + n: {}\", m + n);",
      "\u001b[91m                          ^\u001b[0m \u001b[94mexpected `i16`, found `i32`\u001b[0m",
      "mismatched types"
     ]
    },
    {
     "ename": "Error",
     "evalue": "cannot add `i32` to `i16`",
     "output_type": "error",
     "traceback": [
      "println!(\"m + n: {}\", m + n);",
      "\u001b[91m                        ^\u001b[0m \u001b[94mno implementation for `i16 + i32`\u001b[0m",
      "cannot add `i32` to `i16`",
      "\u001b[1mhelp\u001b[0m: the trait `Add<i32>` is not implemented for `i16`"
     ]
    }
   ],
   "source": [
    "let m: i16 = 100;\n",
    "let n: i32 = 150;\n",
    "\n",
    "println!(\"m + n: {}\", m + n);"
   ]
  },
  {
   "cell_type": "markdown",
   "metadata": {},
   "source": [
    "## 1. Initialization"
   ]
  },
  {
   "cell_type": "code",
   "execution_count": 13,
   "metadata": {},
   "outputs": [
    {
     "name": "stdout",
     "output_type": "stream",
     "text": [
      "x: 1\n"
     ]
    }
   ],
   "source": [
    "let x = 1;\n",
    "println!(\"x: {}\", x);"
   ]
  },
  {
   "cell_type": "code",
   "execution_count": 14,
   "metadata": {},
   "outputs": [
    {
     "ename": "Error",
     "evalue": "borrow of possibly-uninitialized variable: `new`",
     "output_type": "error",
     "traceback": [
      "println!(\"new: {}\", new);",
      "\u001b[91m                    ^^^\u001b[0m \u001b[94muse of possibly-uninitialized `new`\u001b[0m",
      "borrow of possibly-uninitialized variable: `new`"
     ]
    }
   ],
   "source": [
    "let new;\n",
    "println!(\"new: {}\", new);"
   ]
  },
  {
   "cell_type": "markdown",
   "metadata": {},
   "source": [
    "## 2. Mutability"
   ]
  },
  {
   "cell_type": "code",
   "execution_count": 15,
   "metadata": {},
   "outputs": [
    {
     "ename": "Error",
     "evalue": "cannot assign twice to immutable variable `y`",
     "output_type": "error",
     "traceback": [
      "let y = 5;",
      "\u001b[91m    ^\u001b[0m \u001b[94mfirst assignment to `y`\u001b[0m",
      "y = y + 2;",
      "\u001b[91m^^^^^^^^^\u001b[0m \u001b[94mcannot assign twice to immutable variable\u001b[0m",
      "cannot assign twice to immutable variable `y`",
      "\u001b[1mhelp\u001b[0m: consider making this binding mutable\n\nmut y"
     ]
    }
   ],
   "source": [
    "let y = 5;\n",
    "y = y + 2;"
   ]
  },
  {
   "cell_type": "code",
   "execution_count": 16,
   "metadata": {},
   "outputs": [
    {
     "ename": "Error",
     "evalue": "cannot find value `y` in this scope",
     "output_type": "error",
     "traceback": [
      "dbg!(y);",
      "\u001b[91m     ^\u001b[0m \u001b[94m\u001b[0m",
      "cannot find value `y` in this scope",
      "\u001b[1mhelp\u001b[0m: a local variable with a similar name exists\n\nx"
     ]
    }
   ],
   "source": [
    "dbg!(y);"
   ]
  },
  {
   "cell_type": "code",
   "execution_count": 17,
   "metadata": {},
   "outputs": [],
   "source": [
    "let mut y = 5;\n",
    "y = y + 2;"
   ]
  },
  {
   "cell_type": "code",
   "execution_count": 18,
   "metadata": {},
   "outputs": [
    {
     "name": "stderr",
     "output_type": "stream",
     "text": [
      "[src/lib.rs:141] y = 7\n"
     ]
    },
    {
     "data": {
      "text/plain": [
       "7"
      ]
     },
     "execution_count": 18,
     "metadata": {},
     "output_type": "execute_result"
    }
   ],
   "source": [
    "dbg!(y)"
   ]
  },
  {
   "cell_type": "markdown",
   "metadata": {},
   "source": [
    "## 3. Constant"
   ]
  },
  {
   "cell_type": "code",
   "execution_count": 19,
   "metadata": {},
   "outputs": [
    {
     "ename": "Error",
     "evalue": "missing type for `const` item",
     "output_type": "error",
     "traceback": [
      "const ha = 10;",
      "\u001b[91m      ^^\u001b[0m \u001b[94m\u001b[0m",
      "missing type for `const` item",
      "\u001b[1mhelp\u001b[0m: provide a type for the constant\n\nha: i32"
     ]
    }
   ],
   "source": [
    "const ha = 10;"
   ]
  },
  {
   "cell_type": "code",
   "execution_count": 20,
   "metadata": {},
   "outputs": [],
   "source": [
    "const HA: i32 = 100;\n",
    "const ha: i32 = 10;   // If \"const\" is not Upper case, rust will give you a warning."
   ]
  },
  {
   "cell_type": "code",
   "execution_count": 21,
   "metadata": {
    "scrolled": true
   },
   "outputs": [],
   "source": [
    "y *= ha;\n",
    "dbg!(y);"
   ]
  },
  {
   "cell_type": "code",
   "execution_count": 22,
   "metadata": {},
   "outputs": [
    {
     "name": "stderr",
     "output_type": "stream",
     "text": [
      "[src/lib.rs:128] y = 70\n"
     ]
    },
    {
     "data": {
      "text/plain": [
       "100"
      ]
     },
     "execution_count": 22,
     "metadata": {},
     "output_type": "execute_result"
    }
   ],
   "source": [
    "HA"
   ]
  },
  {
   "cell_type": "markdown",
   "metadata": {},
   "source": [
    "# The Effective Scope"
   ]
  },
  {
   "cell_type": "code",
   "execution_count": 23,
   "metadata": {},
   "outputs": [
    {
     "name": "stdout",
     "output_type": "stream",
     "text": [
      "abc + def = 579\n"
     ]
    }
   ],
   "source": [
    "{\n",
    "    let abc = 123;\n",
    "    let def = 456;\n",
    "    \n",
    "    // Only the last sentense does not need to add \";\"\n",
    "    println!(\"abc + def = {}\", abc + def)\n",
    "};"
   ]
  },
  {
   "cell_type": "code",
   "execution_count": 24,
   "metadata": {},
   "outputs": [
    {
     "ename": "Error",
     "evalue": "cannot find value `abc` in this scope",
     "output_type": "error",
     "traceback": [
      "println!(\"abc? {}\", abc);",
      "\u001b[91m                    ^^^\u001b[0m \u001b[94mnot found in this scope\u001b[0m",
      "cannot find value `abc` in this scope"
     ]
    }
   ],
   "source": [
    "{\n",
    "    let abc = 123;\n",
    "    let def = 456;\n",
    "    \n",
    "    println!(\"abc + def = {}\", abc + def);\n",
    "};\n",
    "\n",
    "println!(\"abc? {}\", abc);"
   ]
  },
  {
   "cell_type": "code",
   "execution_count": 25,
   "metadata": {},
   "outputs": [
    {
     "name": "stdout",
     "output_type": "stream",
     "text": [
      "long (out): 100\n",
      "short (in): 1\n",
      "long (in): 200\n",
      "long (out): 100\n",
      "long (out): 50000\n"
     ]
    }
   ],
   "source": [
    "let long = 100;\n",
    "println!(\"long (out): {}\", long);\n",
    "\n",
    "{\n",
    "    let short = 1;\n",
    "    println!(\"short (in): {}\", short);\n",
    "    \n",
    "    let long = 200_f32;\n",
    "    println!(\"long (in): {}\", long);\n",
    "}\n",
    "\n",
    "println!(\"long (out): {}\", long);\n",
    "\n",
    "let long = 50000;\n",
    "println!(\"long (out): {}\", long);"
   ]
  },
  {
   "cell_type": "markdown",
   "metadata": {},
   "source": [
    "# Number Date Types\n",
    "`Signed` means if the integer is going to be added with `-` in front to be minus integer. On the contrary, `Unsigned` can be considered as an absolute value, which stores only positive number. \n",
    "\n",
    "| Length | Signed | Unsigned | Float | Complex |\n",
    "| --- | --- |  --- |  --- |  --- | \n",
    "| 8-bit | `i8` | `u8` | $\\times$ |  |\n",
    "| 16-bit | `i16` | `u16` | `f16` |  |\n",
    "| 32-bit | `i32` | `u32` | `f32` |  |\n",
    "| 64-bit | `i64` | `u64` |`f64`  |  |\n",
    "| 128-bit | `i128` | `u128` | $\\times$ |  |\n",
    "| arch | `isize` | `usize` | $\\times$ |  |\n",
    "\n",
    "+ `Signed`: $-2^{n-1}\\sim 2^{n-1} - 1$. eg. i8 = -128 ~ 127\n",
    "+ `Unsigned`: $0 \\sim 2^{n} - 1$. eg. u8 = 0 ~ 255"
   ]
  },
  {
   "cell_type": "code",
   "execution_count": null,
   "metadata": {},
   "outputs": [],
   "source": []
  },
  {
   "cell_type": "markdown",
   "metadata": {},
   "source": [
    "### Integer"
   ]
  },
  {
   "cell_type": "code",
   "execution_count": 26,
   "metadata": {},
   "outputs": [
    {
     "name": "stdout",
     "output_type": "stream",
     "text": [
      "x: -100, y: 10, large: 100000000\n"
     ]
    }
   ],
   "source": [
    "let x: i32 = -100;\n",
    "let x = -100i32;  // -100_i32\n",
    "\n",
    "let y: u64 = 10;\n",
    "let y = 10u64;   // 10_u64\n",
    "\n",
    "let large = 100_000_000;\n",
    "println!(\"x: {}, y: {}, large: {}\", x, y, large);"
   ]
  },
  {
   "cell_type": "markdown",
   "metadata": {},
   "source": [
    "### Float"
   ]
  },
  {
   "cell_type": "code",
   "execution_count": 27,
   "metadata": {},
   "outputs": [
    {
     "name": "stdout",
     "output_type": "stream",
     "text": [
      "xf: 1.2345\n"
     ]
    }
   ],
   "source": [
    "let xf: f32 = 1.2345;\n",
    "let xf = 1.2345f32;  // 1.2345_f32\n",
    "println!(\"xf: {}\", xf);"
   ]
  },
  {
   "cell_type": "markdown",
   "metadata": {},
   "source": [
    "### Complex"
   ]
  },
  {
   "cell_type": "code",
   "execution_count": 28,
   "metadata": {},
   "outputs": [],
   "source": [
    ":dep num = { version = \"0.4\" }"
   ]
  },
  {
   "cell_type": "code",
   "execution_count": 29,
   "metadata": {},
   "outputs": [],
   "source": [
    "extern crate num;"
   ]
  },
  {
   "cell_type": "code",
   "execution_count": 30,
   "metadata": {},
   "outputs": [
    {
     "name": "stdout",
     "output_type": "stream",
     "text": [
      "ic: 10+20i, fc: 10.1+20.1i\n"
     ]
    }
   ],
   "source": [
    "let ic = num::complex::Complex::new(10, 20);\n",
    "let fc = num::complex::Complex::new(10.1, 20.1);\n",
    "println!(\"ic: {}, fc: {}\", ic, fc);"
   ]
  },
  {
   "cell_type": "markdown",
   "metadata": {},
   "source": [
    "### Binary literals"
   ]
  },
  {
   "cell_type": "code",
   "execution_count": 31,
   "metadata": {},
   "outputs": [
    {
     "name": "stdout",
     "output_type": "stream",
     "text": [
      "x: 170, y: 85\n"
     ]
    }
   ],
   "source": [
    "let x: u8 = 0b1010_1010;\n",
    "let y: u8 = 0b0101_0101;\n",
    "println!(\"x: {}, y: {}\", x, y);"
   ]
  },
  {
   "cell_type": "markdown",
   "metadata": {},
   "source": [
    "### Hex"
   ]
  },
  {
   "cell_type": "code",
   "execution_count": 32,
   "metadata": {},
   "outputs": [
    {
     "name": "stdout",
     "output_type": "stream",
     "text": [
      "x: 175, x_large: 2882400001\n"
     ]
    }
   ],
   "source": [
    "let x: u8 = 0xAF;\n",
    "let x_large = 0xABCD_EF01_u32;\n",
    "println!(\"x: {}, x_large: {}\", x, x_large);"
   ]
  },
  {
   "cell_type": "markdown",
   "metadata": {},
   "source": [
    "### uint"
   ]
  },
  {
   "cell_type": "code",
   "execution_count": 33,
   "metadata": {},
   "outputs": [
    {
     "name": "stdout",
     "output_type": "stream",
     "text": [
      "word: 128, byte: -128, ubyte: 128\n"
     ]
    }
   ],
   "source": [
    "let word: u16 = 128;\n",
    "let byte = word as i8;\n",
    "let ubyte = word as u8;\n",
    "println!(\"word: {}, byte: {}, ubyte: {}\", word, byte, ubyte);"
   ]
  },
  {
   "cell_type": "code",
   "execution_count": 34,
   "metadata": {},
   "outputs": [
    {
     "name": "stdout",
     "output_type": "stream",
     "text": [
      "word: 173, byte: -83, ubyte: 173\n"
     ]
    }
   ],
   "source": [
    "let word: u16 = 173;\n",
    "let byte = word as i8;\n",
    "let ubyte = word as u8;\n",
    "println!(\"word: {}, byte: {}, ubyte: {}\", word, byte, ubyte);"
   ]
  },
  {
   "cell_type": "markdown",
   "metadata": {},
   "source": [
    "## When numbers are too big"
   ]
  },
  {
   "cell_type": "code",
   "execution_count": 35,
   "metadata": {},
   "outputs": [
    {
     "name": "stdout",
     "output_type": "stream",
     "text": [
      "big: 10000, small: 16\n"
     ]
    }
   ],
   "source": [
    "let big = 10000;\n",
    "let small = big as u8;\n",
    "println!(\"big: {}, small: {}\", big, small);"
   ]
  },
  {
   "cell_type": "code",
   "execution_count": null,
   "metadata": {},
   "outputs": [],
   "source": []
  },
  {
   "cell_type": "code",
   "execution_count": 36,
   "metadata": {},
   "outputs": [
    {
     "data": {
      "text/plain": [
       "-536870911"
      ]
     },
     "execution_count": 36,
     "metadata": {},
     "output_type": "execute_result"
    }
   ],
   "source": [
    "0x0fff_ffff_i32.wrapping_mul(0x0fff_ffff_i32)"
   ]
  },
  {
   "cell_type": "code",
   "execution_count": 37,
   "metadata": {},
   "outputs": [
    {
     "ename": "Error",
     "evalue": "constant `ha` should have an upper case name",
     "output_type": "error",
     "traceback": [
      "",
      "constant `ha` should have an upper case name",
      "\u001b[1mhelp\u001b[0m: convert the identifier to upper case\n\nHA"
     ]
    },
    {
     "ename": "Error",
     "evalue": "this arithmetic operation will overflow",
     "output_type": "error",
     "traceback": [
      "attempt to compute `268435455_i32 * 268435455_i32`, which would overflow",
      "this arithmetic operation will overflow"
     ]
    }
   ],
   "source": [
    "0x0fff_ffff_i32 * 0x0fff_ffff_i32"
   ]
  },
  {
   "cell_type": "code",
   "execution_count": null,
   "metadata": {},
   "outputs": [],
   "source": []
  },
  {
   "cell_type": "code",
   "execution_count": 38,
   "metadata": {},
   "outputs": [
    {
     "data": {
      "text/plain": [
       "1.1920929e-7"
      ]
     },
     "execution_count": 38,
     "metadata": {},
     "output_type": "execute_result"
    }
   ],
   "source": [
    "f32::EPSILON"
   ]
  },
  {
   "cell_type": "code",
   "execution_count": 39,
   "metadata": {},
   "outputs": [],
   "source": [
    "pub fn float_eq(x: f32, y: f32) -> bool {\n",
    "    (x - y).abs() <= f32::EPSILON\n",
    "}"
   ]
  },
  {
   "cell_type": "code",
   "execution_count": 40,
   "metadata": {},
   "outputs": [
    {
     "data": {
      "text/plain": [
       "true"
      ]
     },
     "execution_count": 40,
     "metadata": {},
     "output_type": "execute_result"
    }
   ],
   "source": [
    "float_eq(1.234, 1.2340001)"
   ]
  },
  {
   "cell_type": "code",
   "execution_count": 41,
   "metadata": {},
   "outputs": [
    {
     "data": {
      "text/plain": [
       "true"
      ]
     },
     "execution_count": 41,
     "metadata": {},
     "output_type": "execute_result"
    }
   ],
   "source": [
    "float_eq(1.234, 1.234000000001)"
   ]
  },
  {
   "cell_type": "code",
   "execution_count": null,
   "metadata": {},
   "outputs": [],
   "source": []
  }
 ],
 "metadata": {
  "kernelspec": {
   "display_name": "Rust",
   "language": "rust",
   "name": "rust"
  },
  "language_info": {
   "codemirror_mode": "rust",
   "file_extension": ".rs",
   "mimetype": "text/rust",
   "name": "Rust",
   "pygment_lexer": "rust",
   "version": ""
  }
 },
 "nbformat": 4,
 "nbformat_minor": 2
}
