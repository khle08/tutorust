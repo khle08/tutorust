{
 "cells": [
  {
   "cell_type": "markdown",
   "metadata": {},
   "source": [
    "# Brief\n",
    "The simplest error handling mechanism is `panic` function."
   ]
  },
  {
   "cell_type": "code",
   "execution_count": 15,
   "metadata": {},
   "outputs": [],
   "source": [
    "fn strReceive(s: &str) {\n",
    "    if s == \"tiger\" {\n",
    "        panic!(\"Run !\");\n",
    "    }\n",
    "    \n",
    "    println!(\"{:?}\", s);\n",
    "}"
   ]
  },
  {
   "cell_type": "code",
   "execution_count": 16,
   "metadata": {},
   "outputs": [
    {
     "name": "stdout",
     "output_type": "stream",
     "text": [
      "\"hello\"\n"
     ]
    }
   ],
   "source": [
    "strReceive(\"hello\");"
   ]
  },
  {
   "cell_type": "code",
   "execution_count": 17,
   "metadata": {},
   "outputs": [
    {
     "name": "stderr",
     "output_type": "stream",
     "text": [
      "thread '<unnamed>' panicked at 'Run !', src/lib.rs:4:9\n",
      "stack backtrace:\n",
      "   0: std::panicking::begin_panic\n",
      "   1: run_user_code_8\n",
      "   2: evcxr::runtime::Runtime::run_loop\n",
      "   3: evcxr::runtime::runtime_hook\n",
      "   4: evcxr_jupyter::main\n",
      "note: Some details are omitted, run with `RUST_BACKTRACE=full` for a verbose backtrace.\n",
      "Segmentation fault.\n",
      "   0: evcxr::runtime::Runtime::install_crash_handlers::segfault_handler\n",
      "   1: <unknown>\n",
      "   2: core::ptr::drop_in_place<alloc::boxed::Box<dyn core::any::Any+core::marker::Send>>\n",
      "             at /rustc/9d1b2106e23b1abd32fce1f17267604a5102f57a/library/core/src/ptr/mod.rs:188:1\n",
      "      core::ptr::drop_in_place<core::result::Result<i32,alloc::boxed::Box<dyn core::any::Any+core::marker::Send>>>\n",
      "             at /rustc/9d1b2106e23b1abd32fce1f17267604a5102f57a/library/core/src/ptr/mod.rs:188:1\n",
      "      core::result::Result<T,E>::unwrap_or\n",
      "             at /rustc/9d1b2106e23b1abd32fce1f17267604a5102f57a/library/core/src/result.rs:1349:5\n",
      "      std::rt::lang_start_internal::{{closure}}\n",
      "             at /rustc/9d1b2106e23b1abd32fce1f17267604a5102f57a/library/std/src/rt.rs:128:48\n",
      "      std::panicking::try::do_call\n",
      "             at /rustc/9d1b2106e23b1abd32fce1f17267604a5102f57a/library/std/src/panicking.rs:406:40\n",
      "      std::panicking::try\n",
      "             at /rustc/9d1b2106e23b1abd32fce1f17267604a5102f57a/library/std/src/panicking.rs:370:19\n",
      "      std::panic::catch_unwind\n",
      "             at /rustc/9d1b2106e23b1abd32fce1f17267604a5102f57a/library/std/src/panic.rs:133:14\n",
      "      std::rt::lang_start_internal\n",
      "             at /rustc/9d1b2106e23b1abd32fce1f17267604a5102f57a/library/std/src/rt.rs:128:20\n",
      "   3: main\n",
      "   4: __libc_start_main\n",
      "             at /build/glibc-OTsEL5/glibc-2.27/csu/../csu/libc-start.c:310\n",
      "   5: _start\n",
      "\n"
     ]
    },
    {
     "ename": "Error",
     "evalue": "Child process terminated with status: signal: 6 (core dumped)",
     "output_type": "error",
     "traceback": [
      "Child process terminated with status: signal: 6 (core dumped)"
     ]
    }
   ],
   "source": [
    "strReceive(\"tiger\");"
   ]
  },
  {
   "cell_type": "code",
   "execution_count": null,
   "metadata": {},
   "outputs": [],
   "source": []
  },
  {
   "cell_type": "code",
   "execution_count": 18,
   "metadata": {},
   "outputs": [
    {
     "name": "stdout",
     "output_type": "stream",
     "text": [
      "Run !\n",
      "inner: \"dog\"\n",
      "Nothing received\n"
     ]
    }
   ],
   "source": [
    "fn strReceive2(s: Option<&str>) {\n",
    "    match s {\n",
    "        Some(\"tiger\") => println!(\"Run !\"),\n",
    "        Some(inner) => println!(\"inner: {:?}\", inner),\n",
    "        None => println!(\"Nothing received\"),\n",
    "    }\n",
    "}\n",
    "\n",
    "let pet1 = Some(\"tiger\");\n",
    "let pet2 = Some(\"dog\");\n",
    "let pet3 = None;\n",
    "\n",
    "strReceive2(pet1);\n",
    "strReceive2(pet2);\n",
    "strReceive2(pet3);"
   ]
  },
  {
   "cell_type": "code",
   "execution_count": null,
   "metadata": {},
   "outputs": [],
   "source": []
  },
  {
   "cell_type": "markdown",
   "metadata": {},
   "source": [
    "# Error Handling\n",
    "\n",
    "```python\n",
    "try:\n",
    "    # do the first thing.\n",
    "except IndexError:\n",
    "    # do another thing.\n",
    "finally:\n",
    "    # do the last thing.\n",
    "```"
   ]
  },
  {
   "cell_type": "code",
   "execution_count": 20,
   "metadata": {},
   "outputs": [],
   "source": [
    "use std::{fmt, error};\n",
    "\n",
    "// Generic way to define a custom data type.\n",
    "type Result<T> = std::result::Result<T, Box<dyn error::Error>>;\n",
    "\n",
    "#[derive(Debug)]\n",
    "struct EmptyVec;\n",
    "\n",
    "impl fmt::Display for EmptyVec {\n",
    "    fn fmt(&self, f: &mut fmt::Formatter) -> fmt::Result {\n",
    "        write!(f, \"invalid first item to double\")\n",
    "    }\n",
    "}\n",
    "\n",
    "impl error::Error for EmptyVec {}"
   ]
  },
  {
   "cell_type": "code",
   "execution_count": 28,
   "metadata": {},
   "outputs": [],
   "source": [
    "fn double_first(vec: Vec<&str>) -> Result<i32> {\n",
    "    let first = vec.first().ok_or(EmptyVec)?;\n",
    "    let parsed = first.parse::<i32>()?;\n",
    "    Ok(2 * parsed)\n",
    "}\n",
    "\n",
    "fn print(result: Result<i32>) {\n",
    "    match result {\n",
    "        Ok(n) => println!(\"The first doubled is {}\", n),\n",
    "        Err(e) => println!(\"Error: {}\", e),\n",
    "    }\n",
    "}"
   ]
  },
  {
   "cell_type": "code",
   "execution_count": 43,
   "metadata": {},
   "outputs": [
    {
     "name": "stdout",
     "output_type": "stream",
     "text": [
      "The first doubled is 68\n",
      "Error: cannot parse integer from empty string\n",
      "Error: invalid digit found in string\n",
      "Error: invalid first item to double\n"
     ]
    }
   ],
   "source": [
    "let nums = vec![\"34\", \"55\", \"10\"];\n",
    "let epty = vec![\"\", \"\"];\n",
    "let strs = vec![\"hello\", \"world\", \"!\"];\n",
    "\n",
    "print(double_first(nums));\n",
    "print(double_first(epty));\n",
    "print(double_first(strs));\n",
    "print(double_first(vec![]));"
   ]
  },
  {
   "cell_type": "code",
   "execution_count": 44,
   "metadata": {},
   "outputs": [
    {
     "ename": "Error",
     "evalue": "cannot find value `nums` in this scope",
     "output_type": "error",
     "traceback": [
      "nums",
      "\u001b[91m^^^^\u001b[0m \u001b[94mnot found in this scope\u001b[0m",
      "cannot find value `nums` in this scope"
     ]
    }
   ],
   "source": [
    "nums"
   ]
  },
  {
   "cell_type": "code",
   "execution_count": null,
   "metadata": {},
   "outputs": [],
   "source": []
  }
 ],
 "metadata": {
  "kernelspec": {
   "display_name": "Rust",
   "language": "rust",
   "name": "rust"
  },
  "language_info": {
   "codemirror_mode": "rust",
   "file_extension": ".rs",
   "mimetype": "text/rust",
   "name": "Rust",
   "pygment_lexer": "rust",
   "version": ""
  }
 },
 "nbformat": 4,
 "nbformat_minor": 2
}
